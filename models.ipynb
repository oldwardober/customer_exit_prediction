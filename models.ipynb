{
 "cells": [
  {
   "cell_type": "markdown",
   "id": "546b5541",
   "metadata": {},
   "source": [
    "# Predicting customer exit - ML models"
   ]
  },
  {
   "cell_type": "code",
   "execution_count": 1,
   "id": "412c927e",
   "metadata": {},
   "outputs": [],
   "source": [
    "import numpy as np\n",
    "import pandas as pd\n",
    "import matplotlib.pyplot as plt\n",
    "import seaborn as sn\n",
    "import statsmodels.formula.api as smf"
   ]
  },
  {
   "cell_type": "code",
   "execution_count": 2,
   "id": "1c567c15",
   "metadata": {},
   "outputs": [],
   "source": [
    "train_df = pd.read_csv('train_prep.csv', index_col = 'id')\n",
    "test_df = pd.read_csv('test_prep.csv', index_col = 'id')"
   ]
  },
  {
   "cell_type": "markdown",
   "id": "3c3974ea",
   "metadata": {},
   "source": [
    "### Logit"
   ]
  },
  {
   "cell_type": "code",
   "execution_count": 46,
   "id": "182c4b1d",
   "metadata": {},
   "outputs": [
    {
     "name": "stdout",
     "output_type": "stream",
     "text": [
      "Optimization terminated successfully.\n",
      "         Current function value: 0.385889\n",
      "         Iterations 7\n"
     ]
    },
    {
     "data": {
      "text/html": [
       "<table class=\"simpletable\">\n",
       "<caption>Logit Regression Results</caption>\n",
       "<tr>\n",
       "  <th>Dep. Variable:</th>        <td>Exited</td>      <th>  No. Observations:  </th>  <td>165034</td> \n",
       "</tr>\n",
       "<tr>\n",
       "  <th>Model:</th>                 <td>Logit</td>      <th>  Df Residuals:      </th>  <td>165010</td> \n",
       "</tr>\n",
       "<tr>\n",
       "  <th>Method:</th>                 <td>MLE</td>       <th>  Df Model:          </th>  <td>    23</td> \n",
       "</tr>\n",
       "<tr>\n",
       "  <th>Date:</th>            <td>Mon, 17 Jun 2024</td> <th>  Pseudo R-squ.:     </th>  <td>0.2523</td> \n",
       "</tr>\n",
       "<tr>\n",
       "  <th>Time:</th>                <td>14:41:04</td>     <th>  Log-Likelihood:    </th> <td> -63685.</td>\n",
       "</tr>\n",
       "<tr>\n",
       "  <th>converged:</th>             <td>True</td>       <th>  LL-Null:           </th> <td> -85169.</td>\n",
       "</tr>\n",
       "<tr>\n",
       "  <th>Covariance Type:</th>     <td>nonrobust</td>    <th>  LLR p-value:       </th>  <td> 0.000</td> \n",
       "</tr>\n",
       "</table>\n",
       "<table class=\"simpletable\">\n",
       "<tr>\n",
       "                   <td></td>                     <th>coef</th>     <th>std err</th>      <th>z</th>      <th>P>|z|</th>  <th>[0.025</th>    <th>0.975]</th>  \n",
       "</tr>\n",
       "<tr>\n",
       "  <th>Intercept</th>                          <td>   -1.0780</td> <td>    0.157</td> <td>   -6.888</td> <td> 0.000</td> <td>   -1.385</td> <td>   -0.771</td>\n",
       "</tr>\n",
       "<tr>\n",
       "  <th>CreditScore_bracket[T.(500, 600]]</th>  <td>    0.1575</td> <td>    0.050</td> <td>    3.142</td> <td> 0.002</td> <td>    0.059</td> <td>    0.256</td>\n",
       "</tr>\n",
       "<tr>\n",
       "  <th>CreditScore_bracket[T.(600, 700]]</th>  <td>    0.1463</td> <td>    0.065</td> <td>    2.242</td> <td> 0.025</td> <td>    0.018</td> <td>    0.274</td>\n",
       "</tr>\n",
       "<tr>\n",
       "  <th>CreditScore_bracket[T.(700, 800]]</th>  <td>    0.2346</td> <td>    0.084</td> <td>    2.800</td> <td> 0.005</td> <td>    0.070</td> <td>    0.399</td>\n",
       "</tr>\n",
       "<tr>\n",
       "  <th>CreditScore_bracket[T.(800, 851]]</th>  <td>    0.3953</td> <td>    0.112</td> <td>    3.518</td> <td> 0.000</td> <td>    0.175</td> <td>    0.616</td>\n",
       "</tr>\n",
       "<tr>\n",
       "  <th>Age_bracket[T.(25, 35]]</th>            <td>   -0.6482</td> <td>    0.050</td> <td>  -13.014</td> <td> 0.000</td> <td>   -0.746</td> <td>   -0.551</td>\n",
       "</tr>\n",
       "<tr>\n",
       "  <th>Age_bracket[T.(35, 45]]</th>            <td>   -0.3092</td> <td>    0.060</td> <td>   -5.197</td> <td> 0.000</td> <td>   -0.426</td> <td>   -0.193</td>\n",
       "</tr>\n",
       "<tr>\n",
       "  <th>Age_bracket[T.(45, 55]]</th>            <td>    0.6039</td> <td>    0.077</td> <td>    7.841</td> <td> 0.000</td> <td>    0.453</td> <td>    0.755</td>\n",
       "</tr>\n",
       "<tr>\n",
       "  <th>Age_bracket[T.(55, 100]]</th>           <td>   -0.5201</td> <td>    0.104</td> <td>   -4.997</td> <td> 0.000</td> <td>   -0.724</td> <td>   -0.316</td>\n",
       "</tr>\n",
       "<tr>\n",
       "  <th>Salary_bracket[T.(100000, 150000]]</th> <td>    0.2200</td> <td>    0.057</td> <td>    3.882</td> <td> 0.000</td> <td>    0.109</td> <td>    0.331</td>\n",
       "</tr>\n",
       "<tr>\n",
       "  <th>Salary_bracket[T.(150000, 200000]]</th> <td>    0.3672</td> <td>    0.078</td> <td>    4.687</td> <td> 0.000</td> <td>    0.214</td> <td>    0.521</td>\n",
       "</tr>\n",
       "<tr>\n",
       "  <th>Salary_bracket[T.(50000, 100000]]</th>  <td>    0.1082</td> <td>    0.036</td> <td>    3.044</td> <td> 0.002</td> <td>    0.039</td> <td>    0.178</td>\n",
       "</tr>\n",
       "<tr>\n",
       "  <th>Geography[T.Germany]</th>               <td>    1.1478</td> <td>    0.020</td> <td>   56.039</td> <td> 0.000</td> <td>    1.108</td> <td>    1.188</td>\n",
       "</tr>\n",
       "<tr>\n",
       "  <th>Geography[T.Spain]</th>                 <td>    0.0295</td> <td>    0.019</td> <td>    1.580</td> <td> 0.114</td> <td>   -0.007</td> <td>    0.066</td>\n",
       "</tr>\n",
       "<tr>\n",
       "  <th>Gender[T.Male]</th>                     <td>   -0.6574</td> <td>    0.014</td> <td>  -46.271</td> <td> 0.000</td> <td>   -0.685</td> <td>   -0.630</td>\n",
       "</tr>\n",
       "<tr>\n",
       "  <th>CreditScore</th>                        <td>   -0.0014</td> <td>    0.000</td> <td>   -5.171</td> <td> 0.000</td> <td>   -0.002</td> <td>   -0.001</td>\n",
       "</tr>\n",
       "<tr>\n",
       "  <th>Age</th>                                <td>    0.0733</td> <td>    0.002</td> <td>   30.734</td> <td> 0.000</td> <td>    0.069</td> <td>    0.078</td>\n",
       "</tr>\n",
       "<tr>\n",
       "  <th>Balance</th>                            <td> 3.972e-07</td> <td> 3.96e-07</td> <td>    1.003</td> <td> 0.316</td> <td>-3.79e-07</td> <td> 1.17e-06</td>\n",
       "</tr>\n",
       "<tr>\n",
       "  <th>Balance_positive</th>                   <td>   -0.3177</td> <td>    0.052</td> <td>   -6.155</td> <td> 0.000</td> <td>   -0.419</td> <td>   -0.217</td>\n",
       "</tr>\n",
       "<tr>\n",
       "  <th>EstimatedSalary</th>                    <td>-1.551e-06</td> <td> 5.08e-07</td> <td>   -3.053</td> <td> 0.002</td> <td>-2.55e-06</td> <td>-5.55e-07</td>\n",
       "</tr>\n",
       "<tr>\n",
       "  <th>Tenure</th>                             <td>   -0.0154</td> <td>    0.003</td> <td>   -6.111</td> <td> 0.000</td> <td>   -0.020</td> <td>   -0.010</td>\n",
       "</tr>\n",
       "<tr>\n",
       "  <th>NumOfProducts</th>                      <td>   -0.8906</td> <td>    0.014</td> <td>  -64.000</td> <td> 0.000</td> <td>   -0.918</td> <td>   -0.863</td>\n",
       "</tr>\n",
       "<tr>\n",
       "  <th>HasCrCard</th>                          <td>   -0.1587</td> <td>    0.016</td> <td>   -9.793</td> <td> 0.000</td> <td>   -0.190</td> <td>   -0.127</td>\n",
       "</tr>\n",
       "<tr>\n",
       "  <th>IsActiveMember</th>                     <td>   -1.2373</td> <td>    0.015</td> <td>  -81.442</td> <td> 0.000</td> <td>   -1.267</td> <td>   -1.208</td>\n",
       "</tr>\n",
       "</table>"
      ],
      "text/plain": [
       "<class 'statsmodels.iolib.summary.Summary'>\n",
       "\"\"\"\n",
       "                           Logit Regression Results                           \n",
       "==============================================================================\n",
       "Dep. Variable:                 Exited   No. Observations:               165034\n",
       "Model:                          Logit   Df Residuals:                   165010\n",
       "Method:                           MLE   Df Model:                           23\n",
       "Date:                Mon, 17 Jun 2024   Pseudo R-squ.:                  0.2523\n",
       "Time:                        14:41:04   Log-Likelihood:                -63685.\n",
       "converged:                       True   LL-Null:                       -85169.\n",
       "Covariance Type:            nonrobust   LLR p-value:                     0.000\n",
       "======================================================================================================\n",
       "                                         coef    std err          z      P>|z|      [0.025      0.975]\n",
       "------------------------------------------------------------------------------------------------------\n",
       "Intercept                             -1.0780      0.157     -6.888      0.000      -1.385      -0.771\n",
       "CreditScore_bracket[T.(500, 600]]      0.1575      0.050      3.142      0.002       0.059       0.256\n",
       "CreditScore_bracket[T.(600, 700]]      0.1463      0.065      2.242      0.025       0.018       0.274\n",
       "CreditScore_bracket[T.(700, 800]]      0.2346      0.084      2.800      0.005       0.070       0.399\n",
       "CreditScore_bracket[T.(800, 851]]      0.3953      0.112      3.518      0.000       0.175       0.616\n",
       "Age_bracket[T.(25, 35]]               -0.6482      0.050    -13.014      0.000      -0.746      -0.551\n",
       "Age_bracket[T.(35, 45]]               -0.3092      0.060     -5.197      0.000      -0.426      -0.193\n",
       "Age_bracket[T.(45, 55]]                0.6039      0.077      7.841      0.000       0.453       0.755\n",
       "Age_bracket[T.(55, 100]]              -0.5201      0.104     -4.997      0.000      -0.724      -0.316\n",
       "Salary_bracket[T.(100000, 150000]]     0.2200      0.057      3.882      0.000       0.109       0.331\n",
       "Salary_bracket[T.(150000, 200000]]     0.3672      0.078      4.687      0.000       0.214       0.521\n",
       "Salary_bracket[T.(50000, 100000]]      0.1082      0.036      3.044      0.002       0.039       0.178\n",
       "Geography[T.Germany]                   1.1478      0.020     56.039      0.000       1.108       1.188\n",
       "Geography[T.Spain]                     0.0295      0.019      1.580      0.114      -0.007       0.066\n",
       "Gender[T.Male]                        -0.6574      0.014    -46.271      0.000      -0.685      -0.630\n",
       "CreditScore                           -0.0014      0.000     -5.171      0.000      -0.002      -0.001\n",
       "Age                                    0.0733      0.002     30.734      0.000       0.069       0.078\n",
       "Balance                             3.972e-07   3.96e-07      1.003      0.316   -3.79e-07    1.17e-06\n",
       "Balance_positive                      -0.3177      0.052     -6.155      0.000      -0.419      -0.217\n",
       "EstimatedSalary                    -1.551e-06   5.08e-07     -3.053      0.002   -2.55e-06   -5.55e-07\n",
       "Tenure                                -0.0154      0.003     -6.111      0.000      -0.020      -0.010\n",
       "NumOfProducts                         -0.8906      0.014    -64.000      0.000      -0.918      -0.863\n",
       "HasCrCard                             -0.1587      0.016     -9.793      0.000      -0.190      -0.127\n",
       "IsActiveMember                        -1.2373      0.015    -81.442      0.000      -1.267      -1.208\n",
       "======================================================================================================\n",
       "\"\"\""
      ]
     },
     "execution_count": 46,
     "metadata": {},
     "output_type": "execute_result"
    }
   ],
   "source": [
    "mod = smf.logit(formula = \"Exited ~ CreditScore + CreditScore_bracket + Age + Age_bracket + Balance + Balance_positive + EstimatedSalary + Salary_bracket + Geography + Gender + Tenure + NumOfProducts + HasCrCard + IsActiveMember\",\n",
    "                 data = train_df)\n",
    "res = mod.fit()\n",
    "res.summary()"
   ]
  },
  {
   "cell_type": "code",
   "execution_count": 48,
   "id": "7dc29e7d",
   "metadata": {},
   "outputs": [],
   "source": [
    "target = 'Exited'\n",
    "features = train_df.columns.tolist()\n",
    "features.remove(target)\n",
    "add_features = \"+\".join(features)"
   ]
  },
  {
   "cell_type": "markdown",
   "id": "69fdc842",
   "metadata": {},
   "source": [
    "All features apart from the Balance are statistically significant. Now let's perform cross validation."
   ]
  },
  {
   "cell_type": "code",
   "execution_count": 51,
   "id": "d571b031",
   "metadata": {},
   "outputs": [],
   "source": [
    "from sklearn.model_selection import KFold\n",
    "from sklearn.metrics import roc_auc_score\n",
    "from sklearn.metrics import accuracy_score\n",
    "\n",
    "def CVTest(nFolds = 5, randomState=2137, debug=False):\n",
    "    \n",
    "    kf = KFold(n_splits=nFolds, shuffle=True, random_state=randomState)\n",
    "\n",
    "    # Lists for storing results\n",
    "    testAUCResults = []\n",
    "    trainAUCResults = []\n",
    "    #testACCResults = []\n",
    "    #trainACCResults = []\n",
    "    predictions = []\n",
    "    indices = []\n",
    "    \n",
    "    for train, test in kf.split(train_df.index.values):\n",
    "        \n",
    "        # Model estimation\n",
    "        mod = smf.logit(formula = \"Exited ~ \" + add_features, data = train_df.iloc[train])\n",
    "        res = mod.fit()\n",
    "        predsTrain = res.predict()\n",
    "        predsTest = res.predict(train_df.iloc[test])\n",
    "        \n",
    "        # Predictions for given fold\n",
    "        predictions.append(predsTest.values.tolist().copy())\n",
    "        \n",
    "        # With indices from original dataset\n",
    "        indices.append(train_df.iloc[test].index.values.tolist().copy())\n",
    "        \n",
    "        # Predictions in [0,1] for accuracy score\n",
    "        # cutoff = 0.5\n",
    "        # predsTrain_binary = pd.Series([1 if x > cutoff else 0 for x in predsTrain], name = 'predsTrain_binary')\n",
    "        # predsTest_binary = pd.Series([1 if x > cutoff else 0 for x in predsTest], name = 'predsTest_binary')\n",
    "        \n",
    "        # auc and accuracy score for train and test samples\n",
    "        trainAUCScore = roc_auc_score(train_df[target].iloc[train], predsTrain)\n",
    "        testAUCScore = roc_auc_score(train_df[target].iloc[test], predsTest)\n",
    "        #trainACCScore = accuracy_score(titanic['Survived'].iloc[train], predsTrain_binary)\n",
    "        #testACCScore = accuracy_score(titanic['Survived'].iloc[test], predsTest_binary)\n",
    "        \n",
    "        # Storing auc and accuracy scores\n",
    "        trainAUCResults.append(trainAUCScore)\n",
    "        testAUCResults.append(testAUCScore)\n",
    "        #trainACCResults.append(trainACCScore)\n",
    "        #testACCResults.append(testACCScore)\n",
    "        \n",
    "        \n",
    "        if debug:\n",
    "            print(\"Train AUC:\", trainAUCScore,\n",
    "                  \"Valid AUC:\", testAUCScore)\n",
    "        \n",
    "    return trainAUCResults, testAUCResults, predictions, indices"
   ]
  },
  {
   "cell_type": "code",
   "execution_count": 52,
   "id": "4c105add",
   "metadata": {},
   "outputs": [
    {
     "name": "stdout",
     "output_type": "stream",
     "text": [
      "Optimization terminated successfully.\n",
      "         Current function value: 0.386629\n",
      "         Iterations 7\n",
      "Optimization terminated successfully.\n",
      "         Current function value: 0.386109\n",
      "         Iterations 7\n",
      "Optimization terminated successfully.\n",
      "         Current function value: 0.385741\n",
      "         Iterations 7\n",
      "Optimization terminated successfully.\n",
      "         Current function value: 0.385078\n",
      "         Iterations 7\n",
      "Optimization terminated successfully.\n",
      "         Current function value: 0.385793\n",
      "         Iterations 7\n",
      "Mean train AUC: 0.825\n",
      "Mean test AUC: 0.825\n"
     ]
    }
   ],
   "source": [
    "trainAUCResults, testAUCResults, predictions, indices = CVTest()\n",
    "print('Mean train AUC:', np.mean(trainAUCResults).round(3))\n",
    "print('Mean test AUC:', np.mean(testAUCResults).round(3))"
   ]
  },
  {
   "cell_type": "code",
   "execution_count": 54,
   "id": "0521a162",
   "metadata": {},
   "outputs": [],
   "source": [
    "resultM1 = {\n",
    "    \"name\": \"Logit\",\n",
    "    \"description\":\"First logit with all features\",\n",
    "    \"testAUCResults\":testAUCResults.copy(),\n",
    "    \"testACCResults\":testAUCResults.copy(),\n",
    "    \"predictions\":predictions.copy(),\n",
    "    \"indices\":indices.copy(),\n",
    "}"
   ]
  },
  {
   "cell_type": "markdown",
   "id": "60086f21",
   "metadata": {},
   "source": [
    "### Random forests"
   ]
  },
  {
   "cell_type": "markdown",
   "id": "93c0696a",
   "metadata": {},
   "source": [
    "We have transform some categorical features into random forests friendly format (numerical)."
   ]
  },
  {
   "cell_type": "code",
   "execution_count": 303,
   "id": "cac2f625",
   "metadata": {},
   "outputs": [],
   "source": [
    "train_rf = train_df.copy()\n",
    "test_rf = test_df.copy()"
   ]
  },
  {
   "cell_type": "code",
   "execution_count": 304,
   "id": "40fa7e1b",
   "metadata": {},
   "outputs": [],
   "source": [
    "train_rf['Geography'] = train_rf['Geography'].map({'France': 0, 'Spain': 1, 'Germany': 2})\n",
    "test_rf['Geography'] = test_rf['Geography'].map({'France': 0, 'Spain': 1, 'Germany': 2})\n",
    "\n",
    "train_rf['Gender'] = train_rf['Gender'].map({'Male': 0, 'Female': 1})\n",
    "test_rf['Gender'] = test_rf['Gender'].map({'Male': 0, 'Female': 1})\n",
    "\n",
    "train_rf['Age_bracket'] = train_rf['Age_bracket'].map({'(0, 25]': 1, '(25, 35]': 2, '(35, 45]': 3, '(45, 55]': 4, '(55, 100]': 5})\n",
    "test_rf['Age_bracket'] = test_rf['Age_bracket'].map({'(0, 25]': 1, '(25, 35]': 2, '(35, 45]': 3, '(45, 55]': 4, '(55, 100]': 5})\n",
    "\n",
    "train_rf['Salary_bracket'] = train_rf['Salary_bracket'].map({'(0, 50000]': 1, '(50000, 100000]': 2, '(100000, 150000]': 3, \n",
    "                                                             '(150000, 200000]': 4}) \n",
    "test_rf['Salary_bracket'] = test_rf['Salary_bracket'].map({'(0, 50000]': 1, '(50000, 100000]': 2, '(100000, 150000]': 3, \n",
    "                                                           '(150000, 200000]': 4})\n",
    "\n",
    "train_rf['CreditScore_bracket'] = train_rf['CreditScore_bracket'].map({'(349, 500]': 1, '(500, 600]': 2, '(600, 700]': 3, \n",
    "                                                             '(700, 800]': 4, '(800, 851]': 5}) \n",
    "test_rf['CreditScore_bracket'] = test_rf['CreditScore_bracket'].map({'(349, 500]': 1, '(500, 600]': 2, '(600, 700]': 3, \n",
    "                                                           '(700, 800]': 4, '(800, 851]': 5})"
   ]
  },
  {
   "cell_type": "code",
   "execution_count": 68,
   "id": "f77d542d",
   "metadata": {},
   "outputs": [],
   "source": [
    "from sklearn.model_selection import KFold\n",
    "from sklearn import metrics\n",
    "from sklearn.ensemble import RandomForestClassifier\n",
    "from sklearn.metrics import roc_auc_score\n",
    "\n",
    "def CVTestRF(nFolds = 5, randomState=2137, debug=False,  features=features, saveModels = False, *args, **kwargs):\n",
    "    \n",
    "    kf = KFold(n_splits=nFolds, shuffle=True, random_state=randomState)\n",
    "\n",
    "    testAUCResults = []\n",
    "    trainAUCResults = []\n",
    "    predictions = []\n",
    "    indices = []\n",
    "    models = []\n",
    "    \n",
    "    for train, test in kf.split(train_rf.index.values):\n",
    "        # Preparing the estimator\n",
    "        clf = RandomForestClassifier(*args, **kwargs, random_state=randomState, n_jobs=-1)\n",
    "        # Show fuction execution\n",
    "        if debug:\n",
    "            print(clf)\n",
    "        \n",
    "        # Training the model\n",
    "        clf.fit(train_rf.iloc[train][features], train_rf.iloc[train][target])\n",
    "\n",
    "        # Prediction for train and test data\n",
    "        # Sklearn returns two columns of probs for both classes!\n",
    "        predsTrain = clf.predict_proba(train_rf[features].iloc[train])[:,1]\n",
    "        predsTest = clf.predict_proba(train_rf[features].iloc[test])[:,1]\n",
    "        #predsTrain_binary = clf.predict(train_rf[features].iloc[train])\n",
    "        #predsTest_binary = clf.predict(train_rf[features].iloc[test])\n",
    "        \n",
    "        # Storing test predictions for each fold\n",
    "        predictions.append(predsTest.tolist().copy())\n",
    "        \n",
    "        # With indices\n",
    "        indices.append(train_rf.iloc[test].index.tolist().copy())\n",
    "        \n",
    "        # Metrics for each fold\n",
    "        trainAUCScore = roc_auc_score((train_rf[target].iloc[train]), predsTrain)\n",
    "        testAUCScore = roc_auc_score((train_rf[target].iloc[test]), predsTest)\n",
    "        \n",
    "        # Storing results\n",
    "        trainAUCResults.append(trainAUCScore)\n",
    "        testAUCResults.append(testAUCScore)\n",
    "        \n",
    "        # Optional show results\n",
    "        if debug:\n",
    "            print(\"Train AUC:\", trainScore,\n",
    "                  \"Valid AUC:\", testScore)\n",
    "            \n",
    "        # Optional save models\n",
    "        if saveModels:\n",
    "            models.append(clf)\n",
    "        \n",
    "    return trainAUCResults, testAUCResults, predictions, indices, models"
   ]
  },
  {
   "cell_type": "code",
   "execution_count": 74,
   "id": "5bf791ff",
   "metadata": {},
   "outputs": [
    {
     "name": "stdout",
     "output_type": "stream",
     "text": [
      "Mean train AUC: 0.999\n",
      "Mean test AUC: 0.845\n"
     ]
    }
   ],
   "source": [
    "trainAUCResults, testAUCResults, predictions, indices, models = CVTestRF(n_estimators = 10, saveModels = True)\n",
    "print('Mean train AUC:', np.mean(trainAUCResults).round(3))\n",
    "print('Mean test AUC:', np.mean(testAUCResults).round(3))"
   ]
  },
  {
   "cell_type": "markdown",
   "id": "8a42fc24",
   "metadata": {},
   "source": [
    "**Hyperparameters tuning**"
   ]
  },
  {
   "cell_type": "code",
   "execution_count": 77,
   "id": "e2792d8d",
   "metadata": {},
   "outputs": [
    {
     "name": "stdout",
     "output_type": "stream",
     "text": [
      "2 0.8225503604119169 0.8223492464450342\n",
      "4 0.8624374911083754 0.8620383948581509\n",
      "6 0.8785067448242992 0.8769211729060835\n",
      "8 0.8863080396396384 0.8812779065700138\n",
      "10 0.8969738914445318 0.8836184873887143\n",
      "12 0.9145368916887154 0.8827695732469973\n",
      "14 0.9383160108948949 0.8792339003901322\n"
     ]
    }
   ],
   "source": [
    "# max depth \n",
    "for k in range(2,16,2):\n",
    "    trainAUCResults, testAUCResults, predictions, indices, models = CVTestRF(n_estimators=10, max_depth=k)\n",
    "    print(k, np.mean(trainAUCResults), np.mean(testAUCResults))"
   ]
  },
  {
   "cell_type": "code",
   "execution_count": 79,
   "id": "7177b8cb",
   "metadata": {},
   "outputs": [
    {
     "name": "stdout",
     "output_type": "stream",
     "text": [
      "2 0.8969738914445318 0.8836184873887143\n",
      "4 0.8971066995672106 0.8842983316869978\n",
      "6 0.896712986245565 0.8839351778603419\n",
      "8 0.8965513502877 0.8837850062521795\n",
      "10 0.8961104603990815 0.883885812278575\n",
      "12 0.8960372052936967 0.8841860174864669\n",
      "14 0.8958713963649195 0.8838199550219439\n"
     ]
    }
   ],
   "source": [
    "# min samples split\n",
    "for k in range(2,16,2):\n",
    "    trainAUCResults, testAUCResults, predictions, indices, models = CVTestRF(n_estimators=10, max_depth=10, min_samples_split=k)\n",
    "    print(k, np.mean(trainAUCResults), np.mean(testAUCResults))"
   ]
  },
  {
   "cell_type": "code",
   "execution_count": 84,
   "id": "622266a1",
   "metadata": {},
   "outputs": [
    {
     "name": "stdout",
     "output_type": "stream",
     "text": [
      "2 0.8965545640876338 0.8839322741652106\n",
      "4 0.8963531438308341 0.8845078253311052\n",
      "6 0.8956315533347293 0.8839378817824762\n",
      "8 0.895302763976437 0.8840337678787933\n"
     ]
    }
   ],
   "source": [
    "# min samples leaf\n",
    "for k in range(2,10,2):\n",
    "    trainAUCResults, testAUCResults, predictions, indices, models = CVTestRF(n_estimators=10, max_depth=10, min_samples_split=4, \n",
    "                                                                             min_samples_leaf=k)\n",
    "    print(k, np.mean(trainAUCResults), np.mean(testAUCResults))"
   ]
  },
  {
   "cell_type": "code",
   "execution_count": 85,
   "id": "68781a10",
   "metadata": {},
   "outputs": [
    {
     "name": "stdout",
     "output_type": "stream",
     "text": [
      "2 0.8907475111828507 0.878429688296848\n",
      "4 0.8982647418162142 0.8852137304856299\n",
      "6 0.901184646482444 0.8861319649210682\n",
      "8 0.9019012949161782 0.8861489303569507\n",
      "10 0.9031787807408376 0.8854311951207429\n",
      "12 0.9035489752090058 0.885568867779762\n",
      "14 0.9038052415831498 0.8850124625779985\n"
     ]
    }
   ],
   "source": [
    "# max features\n",
    "for k in range(2, len(features) + 1,2):\n",
    "    trainAUCResults, testAUCResults, predictions, indices, models = CVTestRF(n_estimators=10, max_depth=10, min_samples_split=4, \n",
    "                                                                             min_samples_leaf=4, max_features = k)\n",
    "    print(k, np.mean(trainAUCResults), np.mean(testAUCResults))"
   ]
  },
  {
   "cell_type": "code",
   "execution_count": 86,
   "id": "72d5fc9c",
   "metadata": {},
   "outputs": [
    {
     "name": "stdout",
     "output_type": "stream",
     "text": [
      "10 0.9019012949161782 0.8861489303569507\n",
      "25 0.9029375564314199 0.8870382125987625\n",
      "50 0.9034768496574038 0.8874070228524376\n",
      "75 0.9036264700025015 0.8875034190279838\n",
      "100 0.9036865927261795 0.887563384334135\n"
     ]
    }
   ],
   "source": [
    "# n_estimators\n",
    "for k in [10,25,50,75,100]:\n",
    "    trainAUCResults, testAUCResults, predictions, indices, models = CVTestRF(n_estimators=k, max_depth=10, min_samples_split=4, \n",
    "                                                                             min_samples_leaf=4, max_features = 8)\n",
    "    print(k, np.mean(trainAUCResults), np.mean(testAUCResults))"
   ]
  },
  {
   "cell_type": "markdown",
   "id": "391d9df9",
   "metadata": {},
   "source": [
    "Random search "
   ]
  },
  {
   "cell_type": "code",
   "execution_count": 89,
   "id": "886ff4b7",
   "metadata": {},
   "outputs": [],
   "source": [
    "import random\n",
    "results=[]\n",
    "paramList = []\n",
    "for x in range(100):\n",
    "    params = (random.randint(8, 12), random.randint(4, 12), random.randint(4, 10), random.randint(5, 10), \n",
    "              random.randint(10, 50))\n",
    "    trainAUCResults, testAUCResults, predictions, indices, models = CVTestRF(\n",
    "        max_depth=params[0],\n",
    "        min_samples_split = params[1],\n",
    "        min_samples_leaf=params[2],\n",
    "        max_features=params[3],\n",
    "        n_estimators=params[4]\n",
    "    )\n",
    "    results.append(np.mean(testAUCResults))\n",
    "    paramList.append(params)"
   ]
  },
  {
   "cell_type": "code",
   "execution_count": 90,
   "id": "d9420511",
   "metadata": {},
   "outputs": [
    {
     "name": "stdout",
     "output_type": "stream",
     "text": [
      "(0.8876801704397458, (10, 5, 8, 5, 41))\n",
      "(0.8876438446407745, (9, 9, 6, 6, 38))\n",
      "(0.887636886834296, (10, 9, 10, 6, 41))\n",
      "(0.8875894579294025, (9, 12, 7, 7, 35))\n",
      "(0.8875736212090132, (9, 8, 9, 5, 39))\n",
      "(0.8875704125195766, (9, 5, 10, 8, 40))\n",
      "(0.8875597857310268, (9, 7, 7, 9, 43))\n",
      "(0.8875580623045852, (9, 12, 7, 9, 50))\n",
      "(0.8875493779949364, (10, 12, 6, 7, 44))\n",
      "(0.8875233324239085, (10, 6, 10, 6, 30))\n"
     ]
    }
   ],
   "source": [
    "maxRes = []\n",
    "for i in range(1, len(paramList)):\n",
    "    maxRes.append(max(results[0:i]))\n",
    "imp = list(zip(results, paramList))\n",
    "imp.sort(reverse=True)\n",
    "for row in imp[0:10]:\n",
    "    print(row)"
   ]
  },
  {
   "cell_type": "markdown",
   "id": "6c23ff8f",
   "metadata": {},
   "source": [
    "**Feature importance**"
   ]
  },
  {
   "cell_type": "code",
   "execution_count": 96,
   "id": "cd326807",
   "metadata": {},
   "outputs": [
    {
     "name": "stdout",
     "output_type": "stream",
     "text": [
      "Mean train AUC: 0.9008129969317599\n",
      "Mean test AUC: 0.8879346126510359\n"
     ]
    }
   ],
   "source": [
    "# n_estimator = 200 - AUC: 0.888"
   ]
  },
  {
   "cell_type": "code",
   "execution_count": 97,
   "id": "a6340d7b",
   "metadata": {},
   "outputs": [
    {
     "data": {
      "text/plain": [
       "[(0.29664165239818924, 'NumOfProducts'),\n",
       " (0.24083478700238833, 'Age'),\n",
       " (0.1499034981375301, 'Age_bracket'),\n",
       " (0.11096048951454493, 'IsActiveMember'),\n",
       " (0.057198256092409853, 'Geography'),\n",
       " (0.04789470878857603, 'Balance'),\n",
       " (0.02737494036666332, 'Gender'),\n",
       " (0.017979075441009927, 'EstimatedSalary'),\n",
       " (0.017629641079088394, 'Balance_positive'),\n",
       " (0.017422348607690284, 'CreditScore'),\n",
       " (0.007623697066334311, 'Tenure'),\n",
       " (0.0029422316513781775, 'CreditScore_bracket'),\n",
       " (0.002902885482391253, 'Salary_bracket'),\n",
       " (0.0026917883718058583, 'HasCrCard')]"
      ]
     },
     "execution_count": 97,
     "metadata": {},
     "output_type": "execute_result"
    }
   ],
   "source": [
    "trainAUCResults, testAUCResults, predictions, indices, models = CVTestRF(n_estimators=100, max_depth=10, min_samples_split=5, \n",
    "                                                                        min_samples_leaf=8, max_features = 5, saveModels = True)\n",
    "\n",
    "imps = pd.DataFrame({'feature': features, 'feature_importance': models[0].feature_importances_})\n",
    "imps.sort_values('feature_importance', ascending = False)"
   ]
  },
  {
   "cell_type": "code",
   "execution_count": 110,
   "id": "934127dc",
   "metadata": {},
   "outputs": [
    {
     "data": {
      "text/plain": [
       "<Axes: xlabel='feature_importance', ylabel='feature'>"
      ]
     },
     "execution_count": 110,
     "metadata": {},
     "output_type": "execute_result"
    },
    {
     "data": {
      "image/png": "[encoded data removed]",
      "text/plain": [
       "<Figure size 432x288 with 1 Axes>"
      ]
     },
     "metadata": {},
     "output_type": "display_data"
    }
   ],
   "source": [
    "sn.set_theme(style = 'darkgrid')\n",
    "plt.suptitle('Feature importance in Random Forests')\n",
    "sn.barplot(data = imps.sort_values('feature_importance', ascending = False), x = 'feature_importance', y = 'feature',\n",
    "          palette = 'RdGy')"
   ]
  },
  {
   "cell_type": "code",
   "execution_count": 111,
   "id": "c4676734",
   "metadata": {},
   "outputs": [],
   "source": [
    "features.remove('CreditScore_bracket')\n",
    "features.remove('Salary_bracket')\n",
    "\n",
    "trainAUCResults, testAUCResults, predictions, indices, models = CVTestRF(n_estimators=100, max_depth=10, min_samples_split=5, \n",
    "                                                                         min_samples_leaf=8, max_features = 5, saveModels = True)\n",
    "print('Mean train AUC:', np.mean(trainAUCResults))\n",
    "print('Mean test AUC:', np.mean(testAUCResults)) # small improvement"
   ]
  },
  {
   "cell_type": "code",
   "execution_count": 114,
   "id": "6ecd3bdd",
   "metadata": {},
   "outputs": [
    {
     "name": "stdout",
     "output_type": "stream",
     "text": [
      "Mean train AUC: 0.9012782634090962\n",
      "Mean test AUC: 0.8877025367238243\n"
     ]
    }
   ],
   "source": [
    "features.remove('HasCrCard')\n",
    "\n",
    "trainAUCResults, testAUCResults, predictions, indices, models = CVTestRF(n_estimators=100, max_depth=10, min_samples_split=5, \n",
    "                                                                         min_samples_leaf=8, max_features = 5, saveModels = True)\n",
    "print('Mean train AUC:', np.mean(trainAUCResults))\n",
    "print('Mean test AUC:', np.mean(testAUCResults)) # a little bit worse"
   ]
  },
  {
   "cell_type": "code",
   "execution_count": 120,
   "id": "7eae72ca",
   "metadata": {},
   "outputs": [],
   "source": [
    "features.append('HasCrCard')"
   ]
  },
  {
   "cell_type": "markdown",
   "id": "283c0eee",
   "metadata": {},
   "source": [
    "**Final Random Forests model**"
   ]
  },
  {
   "cell_type": "code",
   "execution_count": 122,
   "id": "281c103c",
   "metadata": {},
   "outputs": [
    {
     "name": "stdout",
     "output_type": "stream",
     "text": [
      "Mean train AUC: 0.90149\n",
      "Mean test AUC: 0.88804\n"
     ]
    }
   ],
   "source": [
    "trainAUCResults, testAUCResults, predictions, indices, models = CVTestRF(n_estimators=200, max_depth=10, min_samples_split=5, \n",
    "                                                                         min_samples_leaf=8, max_features = 5, saveModels = True)\n",
    "print('Mean train AUC:', np.mean(trainAUCResults).round(5))\n",
    "print('Mean test AUC:', np.mean(testAUCResults).round(5)) "
   ]
  },
  {
   "cell_type": "code",
   "execution_count": 123,
   "id": "669375a3",
   "metadata": {},
   "outputs": [],
   "source": [
    "resultM2 = {\n",
    "    \"name\": \"Random Forests\",\n",
    "    \"description\":\"RF after hyperparameters tuning (random search) and feature selection (cs_bracket and salary_bracket removed)\",\n",
    "    \"testAUCResults\":testAUCResults.copy(),\n",
    "    \"testACCResults\":testAUCResults.copy(),\n",
    "    \"predictions\":predictions.copy(),\n",
    "    \"indices\":indices.copy(),\n",
    "}"
   ]
  },
  {
   "cell_type": "markdown",
   "id": "962051df",
   "metadata": {},
   "source": [
    "Submission"
   ]
  },
  {
   "cell_type": "code",
   "execution_count": 130,
   "id": "fbc97129",
   "metadata": {},
   "outputs": [
    {
     "data": {
      "text/html": [
       "<style>#sk-container-id-2 {color: black;}#sk-container-id-2 pre{padding: 0;}#sk-container-id-2 div.sk-toggleable {background-color: white;}#sk-container-id-2 label.sk-toggleable__label {cursor: pointer;display: block;width: 100%;margin-bottom: 0;padding: 0.3em;box-sizing: border-box;text-align: center;}#sk-container-id-2 label.sk-toggleable__label-arrow:before {content: \"▸\";float: left;margin-right: 0.25em;color: #696969;}#sk-container-id-2 label.sk-toggleable__label-arrow:hover:before {color: black;}#sk-container-id-2 div.sk-estimator:hover label.sk-toggleable__label-arrow:before {color: black;}#sk-container-id-2 div.sk-toggleable__content {max-height: 0;max-width: 0;overflow: hidden;text-align: left;background-color: #f0f8ff;}#sk-container-id-2 div.sk-toggleable__content pre {margin: 0.2em;color: black;border-radius: 0.25em;background-color: #f0f8ff;}#sk-container-id-2 input.sk-toggleable__control:checked~div.sk-toggleable__content {max-height: 200px;max-width: 100%;overflow: auto;}#sk-container-id-2 input.sk-toggleable__control:checked~label.sk-toggleable__label-arrow:before {content: \"▾\";}#sk-container-id-2 div.sk-estimator input.sk-toggleable__control:checked~label.sk-toggleable__label {background-color: #d4ebff;}#sk-container-id-2 div.sk-label input.sk-toggleable__control:checked~label.sk-toggleable__label {background-color: #d4ebff;}#sk-container-id-2 input.sk-hidden--visually {border: 0;clip: rect(1px 1px 1px 1px);clip: rect(1px, 1px, 1px, 1px);height: 1px;margin: -1px;overflow: hidden;padding: 0;position: absolute;width: 1px;}#sk-container-id-2 div.sk-estimator {font-family: monospace;background-color: #f0f8ff;border: 1px dotted black;border-radius: 0.25em;box-sizing: border-box;margin-bottom: 0.5em;}#sk-container-id-2 div.sk-estimator:hover {background-color: #d4ebff;}#sk-container-id-2 div.sk-parallel-item::after {content: \"\";width: 100%;border-bottom: 1px solid gray;flex-grow: 1;}#sk-container-id-2 div.sk-label:hover label.sk-toggleable__label {background-color: #d4ebff;}#sk-container-id-2 div.sk-serial::before {content: \"\";position: absolute;border-left: 1px solid gray;box-sizing: border-box;top: 0;bottom: 0;left: 50%;z-index: 0;}#sk-container-id-2 div.sk-serial {display: flex;flex-direction: column;align-items: center;background-color: white;padding-right: 0.2em;padding-left: 0.2em;position: relative;}#sk-container-id-2 div.sk-item {position: relative;z-index: 1;}#sk-container-id-2 div.sk-parallel {display: flex;align-items: stretch;justify-content: center;background-color: white;position: relative;}#sk-container-id-2 div.sk-item::before, #sk-container-id-2 div.sk-parallel-item::before {content: \"\";position: absolute;border-left: 1px solid gray;box-sizing: border-box;top: 0;bottom: 0;left: 50%;z-index: -1;}#sk-container-id-2 div.sk-parallel-item {display: flex;flex-direction: column;z-index: 1;position: relative;background-color: white;}#sk-container-id-2 div.sk-parallel-item:first-child::after {align-self: flex-end;width: 50%;}#sk-container-id-2 div.sk-parallel-item:last-child::after {align-self: flex-start;width: 50%;}#sk-container-id-2 div.sk-parallel-item:only-child::after {width: 0;}#sk-container-id-2 div.sk-dashed-wrapped {border: 1px dashed gray;margin: 0 0.4em 0.5em 0.4em;box-sizing: border-box;padding-bottom: 0.4em;background-color: white;}#sk-container-id-2 div.sk-label label {font-family: monospace;font-weight: bold;display: inline-block;line-height: 1.2em;}#sk-container-id-2 div.sk-label-container {text-align: center;}#sk-container-id-2 div.sk-container {/* jupyter's `normalize.less` sets `[hidden] { display: none; }` but bootstrap.min.css set `[hidden] { display: none !important; }` so we also need the `!important` here to be able to override the default hidden behavior on the sphinx rendered scikit-learn.org. See: https://github.com/scikit-learn/scikit-learn/issues/21755 */display: inline-block !important;position: relative;}#sk-container-id-2 div.sk-text-repr-fallback {display: none;}</style><div id=\"sk-container-id-2\" class=\"sk-top-container\"><div class=\"sk-text-repr-fallback\"><pre>RandomForestClassifier(max_depth=10, max_features=5, min_samples_leaf=8,\n",
       "                       min_samples_split=5, n_estimators=200)</pre><b>In a Jupyter environment, please rerun this cell to show the HTML representation or trust the notebook. <br />On GitHub, the HTML representation is unable to render, please try loading this page with nbviewer.org.</b></div><div class=\"sk-container\" hidden><div class=\"sk-item\"><div class=\"sk-estimator sk-toggleable\"><input class=\"sk-toggleable__control sk-hidden--visually\" id=\"sk-estimator-id-2\" type=\"checkbox\" checked><label for=\"sk-estimator-id-2\" class=\"sk-toggleable__label sk-toggleable__label-arrow\">RandomForestClassifier</label><div class=\"sk-toggleable__content\"><pre>RandomForestClassifier(max_depth=10, max_features=5, min_samples_leaf=8,\n",
       "                       min_samples_split=5, n_estimators=200)</pre></div></div></div></div></div>"
      ],
      "text/plain": [
       "RandomForestClassifier(max_depth=10, max_features=5, min_samples_leaf=8,\n",
       "                       min_samples_split=5, n_estimators=200)"
      ]
     },
     "execution_count": 130,
     "metadata": {},
     "output_type": "execute_result"
    }
   ],
   "source": [
    "clf = RandomForestClassifier(n_estimators=200, max_depth=10, min_samples_split=5, min_samples_leaf=8, max_features = 5)\n",
    "clf.fit(train_rf[features], train_rf[target])"
   ]
  },
  {
   "cell_type": "code",
   "execution_count": 135,
   "id": "06bbf64a",
   "metadata": {},
   "outputs": [],
   "source": [
    "test_rf['Exited'] = clf.predict_proba(test_rf[features])[:,1]\n",
    "submission = test_rf['Exited']\n",
    "submission.to_csv('submission_rf.csv')"
   ]
  },
  {
   "cell_type": "markdown",
   "id": "79423d4c",
   "metadata": {},
   "source": [
    "### XGBoost"
   ]
  },
  {
   "cell_type": "code",
   "execution_count": 126,
   "id": "e8e64543",
   "metadata": {},
   "outputs": [],
   "source": [
    "import xgboost as xgb\n",
    "\n",
    "def CVTestXGB(nFolds = 5, randomState=2137, debug=False,  features=features, saveModels = False, *args, **kwargs):\n",
    "    \n",
    "    kf = KFold(n_splits=nFolds, shuffle=True, random_state=randomState)\n",
    "\n",
    "    testAUCResults = []\n",
    "    trainAUCResults = []\n",
    "    predictions = []\n",
    "    indices = []\n",
    "    models = []\n",
    "    \n",
    "    for train, test in kf.split(train_rf.index.values):\n",
    "        \n",
    "        # Preparing the estimator\n",
    "        bst = xgb.XGBClassifier(*args, **kwargs)\n",
    "        \n",
    "        # Show fuction execution\n",
    "        if debug:\n",
    "            print(clf)\n",
    "        \n",
    "        # Training the model\n",
    "        bst.fit(train_rf.iloc[train][features], train_rf.iloc[train][target])\n",
    "\n",
    "        # Prediction for train and test data\n",
    "        # Sklearn returns two columns of probs for both classes!\n",
    "        predsTrain = bst.predict_proba(train_rf[features].iloc[train])[:,1]\n",
    "        predsTest = bst.predict_proba(train_rf[features].iloc[test])[:,1]\n",
    "        #predsTrain_binary = clf.predict(train_rf[features].iloc[train])\n",
    "        #predsTest_binary = clf.predict(train_rf[features].iloc[test])\n",
    "        \n",
    "        # Storing test predictions for each fold\n",
    "        predictions.append(predsTest.tolist().copy())\n",
    "        \n",
    "        # With indices\n",
    "        indices.append(train_df.iloc[test].index.tolist().copy())\n",
    "        \n",
    "        # Metrics for each fold\n",
    "        trainAUCScore = roc_auc_score((train_rf[target].iloc[train]), predsTrain)\n",
    "        testAUCScore = roc_auc_score((train_rf[target].iloc[test]), predsTest)\n",
    "        \n",
    "        # Storing results\n",
    "        trainAUCResults.append(trainAUCScore)\n",
    "        testAUCResults.append(testAUCScore)\n",
    "        \n",
    "        # Optional show results\n",
    "        if debug:\n",
    "            print(\"Train AUC:\", trainScore,\n",
    "                  \"Valid AUC:\", testScore)\n",
    "            \n",
    "        # Optional save models\n",
    "        if saveModels:\n",
    "            models.append(bst)\n",
    "        \n",
    "    return trainAUCResults, testAUCResults, predictions, indices, models"
   ]
  },
  {
   "cell_type": "code",
   "execution_count": 128,
   "id": "5cec03cb",
   "metadata": {},
   "outputs": [
    {
     "name": "stdout",
     "output_type": "stream",
     "text": [
      "Mean train AUC: 0.91505\n",
      "Mean test AUC: 0.88643\n"
     ]
    }
   ],
   "source": [
    "trainAUCResults, testAUCResults, predictions, indices, models = CVTestXGB()\n",
    "print('Mean train AUC:', np.mean(trainAUCResults).round(5))\n",
    "print('Mean test AUC:', np.mean(testAUCResults).round(5))"
   ]
  },
  {
   "cell_type": "markdown",
   "id": "c799c4da",
   "metadata": {},
   "source": [
    "**Hyperparameters tuning**"
   ]
  },
  {
   "cell_type": "code",
   "execution_count": 140,
   "id": "2bd66ed7",
   "metadata": {},
   "outputs": [
    {
     "name": "stdout",
     "output_type": "stream",
     "text": [
      "2 0.8752800230843188 0.8752215131885439\n",
      "4 0.8863823607563106 0.8857684706069143\n",
      "6 0.8911165885163335 0.8876619820299932\n",
      "8 0.9001007512192907 0.8869265750835819\n",
      "10 0.9190048940663328 0.8836982131692348\n",
      "12 0.9443037121101533 0.8791701365387299\n",
      "14 0.9657084470911498 0.874396576943294\n"
     ]
    }
   ],
   "source": [
    "# max depth \n",
    "for k in range(2,16,2):\n",
    "    trainAUCResults, testAUCResults, predictions, indices, models = CVTestXGB(n_estimators = 10, max_depth=k)\n",
    "    print(k, np.mean(trainAUCResults), np.mean(testAUCResults))"
   ]
  },
  {
   "cell_type": "code",
   "execution_count": 142,
   "id": "d674ac3e",
   "metadata": {},
   "outputs": [
    {
     "name": "stdout",
     "output_type": "stream",
     "text": [
      "0.2 0.8897121218888275 0.8860789443858448\n",
      "0.4 0.8906583730371004 0.8872013097365686\n",
      "0.6 0.8908269079821212 0.8874043053470893\n",
      "0.8 0.8911029779270407 0.887726507200132\n",
      "1 0.8911165885163335 0.8876619820299932\n"
     ]
    }
   ],
   "source": [
    "# subsample\n",
    "for k in [0.2,0.4,0.6,0.8,1]:\n",
    "    trainAUCResults, testAUCResults, predictions, indices, models = CVTestXGB(n_estimators = 10, max_depth=6, subsample = k)\n",
    "    print(k, np.mean(trainAUCResults), np.mean(testAUCResults))"
   ]
  },
  {
   "cell_type": "code",
   "execution_count": 143,
   "id": "9f516e93",
   "metadata": {},
   "outputs": [
    {
     "name": "stdout",
     "output_type": "stream",
     "text": [
      "0.2 0.8792465328475062 0.8782925161485025\n",
      "0.4 0.8881600439832535 0.8857633956883303\n",
      "0.6 0.8900373977890699 0.8870986615197769\n",
      "0.8 0.8907866202021975 0.8874580049870087\n",
      "1 0.8911029779270407 0.887726507200132\n"
     ]
    }
   ],
   "source": [
    "# colsample_bytree\n",
    "for k in [0.2,0.4,0.6,0.8,1]:\n",
    "    trainAUCResults, testAUCResults, predictions, indices, models = CVTestXGB(n_estimators = 10, max_depth=6, subsample = 0.8, \n",
    "                                                                              colsample_bytree = k)\n",
    "    print(k, np.mean(trainAUCResults), np.mean(testAUCResults))"
   ]
  },
  {
   "cell_type": "code",
   "execution_count": 145,
   "id": "03b0fc32",
   "metadata": {},
   "outputs": [
    {
     "name": "stdout",
     "output_type": "stream",
     "text": [
      "0.2 0.8881543372294727 0.8858559458664118\n",
      "0.4 0.8903516716210909 0.8874144163745246\n",
      "0.6 0.8906512336232837 0.8877832492508329\n",
      "0.8 0.8907277351157725 0.8875938506996086\n",
      "1 0.8911029779270407 0.887726507200132\n"
     ]
    }
   ],
   "source": [
    "# colsample_bylevel\n",
    "for k in [0.2,0.4,0.6,0.8,1]:\n",
    "    trainAUCResults, testAUCResults, predictions, indices, models = CVTestXGB(n_estimators = 10, max_depth=6, subsample = 0.8, \n",
    "                                                                              colsample_bylevel = k)\n",
    "    print(k, np.mean(trainAUCResults), np.mean(testAUCResults))"
   ]
  },
  {
   "cell_type": "code",
   "execution_count": 148,
   "id": "6d08d970",
   "metadata": {},
   "outputs": [
    {
     "name": "stdout",
     "output_type": "stream",
     "text": [
      "0 0.8907694747744953 0.8877181088758572\n",
      "2 0.8906342340523565 0.887732535714685\n",
      "4 0.8904780547547417 0.8876468862913682\n",
      "6 0.8903891674822646 0.8876587433831012\n",
      "8 0.8903310076204237 0.8877080773029238\n",
      "10 0.8902354721003075 0.8876435150834915\n"
     ]
    }
   ],
   "source": [
    "# lambda\n",
    "for k in [0,2,4,6,8,10]:\n",
    "    trainAUCResults, testAUCResults, predictions, indices, models = CVTestXGB(n_estimators = 10, max_depth=6, subsample = 0.8, colsample_bylevel = 0.6,\n",
    "                                                reg_lambda = k)\n",
    "    print(k, np.mean(trainAUCResults), np.mean(testAUCResults))"
   ]
  },
  {
   "cell_type": "code",
   "execution_count": 149,
   "id": "caec4dd2",
   "metadata": {},
   "outputs": [
    {
     "name": "stdout",
     "output_type": "stream",
     "text": [
      "0.2 0.8888287501598657 0.8868517557593002\n",
      "0.4 0.8913971117985472 0.8876609962126805\n",
      "0.6 0.8927084958436253 0.8871366891753377\n",
      "0.8 0.8932649597449615 0.8858051816454321\n",
      "1 0.892996779828311 0.8842178382885573\n"
     ]
    }
   ],
   "source": [
    "# learning_rate\n",
    "for k in [0.2, 0.4, 0.6, 0.8, 1]:\n",
    "    trainAUCResults, testAUCResults, predictions, indices, models = CVTestXGB(n_estimators = 10, max_depth=6, subsample = 0.8, \n",
    "                                                                              colsample_bylevel = 0.6, reg_lambda = 10, \n",
    "                                                                              learning_rate = k)\n",
    "    print(k, np.mean(trainAUCResults), np.mean(testAUCResults))"
   ]
  },
  {
   "cell_type": "code",
   "execution_count": 151,
   "id": "b5af17d5",
   "metadata": {},
   "outputs": [
    {
     "name": "stdout",
     "output_type": "stream",
     "text": [
      "25 0.890877025567311 0.8876526921606797\n",
      "50 0.8906779782569053 0.8878656966953427\n",
      "75 0.8903186848532204 0.8877341465267975\n",
      "100 0.8900999494455568 0.8877647290690026\n",
      "125 0.8898563560430534 0.887713495686933\n",
      "150 0.8895771791526638 0.8875730610815257\n"
     ]
    }
   ],
   "source": [
    "# min_child_weight\n",
    "for k in [25,50,75,100,125,150]:\n",
    "    trainAUCResults, testAUCResults, predictions, indices, models = CVTestXGB(n_estimators = 10, max_depth=6, subsample = 0.8, \n",
    "                                                                              colsample_bylevel = 0.6, reg_lambda = 10, \n",
    "                                                                              learning_rate = 0.4, min_child_weight = k)\n",
    "    print(k, np.mean(trainAUCResults), np.mean(testAUCResults))"
   ]
  },
  {
   "cell_type": "code",
   "execution_count": 160,
   "id": "2068a3fd",
   "metadata": {},
   "outputs": [
    {
     "name": "stdout",
     "output_type": "stream",
     "text": [
      "Mean train AUC: 0.89068\n",
      "Mean test AUC: 0.88787\n"
     ]
    }
   ],
   "source": [
    "trainAUCResults, testAUCResults, predictions, indices, models = CVTestXGB(n_estimators = 10, max_depth=6, subsample = 0.8, \n",
    "                                                                          colsample_bylevel = 0.6, reg_lambda = 10, \n",
    "                                                                          learning_rate = 0.4, min_child_weight = 50)\n",
    "print('Mean train AUC:', np.mean(trainAUCResults).round(5))\n",
    "print('Mean test AUC:', np.mean(testAUCResults).round(5))"
   ]
  },
  {
   "cell_type": "markdown",
   "id": "744432af",
   "metadata": {},
   "source": [
    "Random Search"
   ]
  },
  {
   "cell_type": "code",
   "execution_count": 163,
   "id": "fc1a2b67",
   "metadata": {},
   "outputs": [],
   "source": [
    "import random\n",
    "results=[]\n",
    "paramList = []\n",
    "for x in range(50):\n",
    "    params = (random.randint(4, 10), random.uniform(0.4, 1), random.uniform(0.6, 1), random.uniform(0.6, 1), \n",
    "              random.randint(1, 10), random.uniform(0.1,1), random.randint(1,100), random.randint(1,50))\n",
    "    trainAUCResults, testAUCResults, predictions, indices, models = CVTestXGB(\n",
    "        max_depth = params[0],\n",
    "        subsample = params[1],\n",
    "        colsample_bytree = params[2],\n",
    "        colsample_bylevel = params[3],\n",
    "        reg_lambda = params[4],\n",
    "        learning_rate = params[5],\n",
    "        min_child_weight = params[6],\n",
    "        n_estimators = params[7])\n",
    "    results.append(np.mean(testAUCResults))\n",
    "    paramList.append(params)"
   ]
  },
  {
   "cell_type": "code",
   "execution_count": 164,
   "id": "c8099920",
   "metadata": {},
   "outputs": [
    {
     "name": "stdout",
     "output_type": "stream",
     "text": [
      "(0.8889663696822483, (6, 0.6426680096317758, 0.7773169503550073, 0.6911868323061576, 5, 0.21218657101684246, 84, 48))\n",
      "(0.8885888003608585, (4, 0.9206393681546954, 0.7488110708446447, 0.913307958054388, 5, 0.5093488298912029, 32, 46))\n",
      "(0.8885043117148103, (8, 0.513926967383295, 0.7397378889185717, 0.62654754417932, 7, 0.18123568963786701, 28, 32))\n",
      "(0.8883569749328964, (10, 0.9931669704732407, 0.6035855182876909, 0.684132442172183, 1, 0.38101308905052855, 82, 29))\n",
      "(0.8882710657672671, (4, 0.8107192685659, 0.9264611718462551, 0.7727993085330843, 4, 0.4630791132874639, 70, 25))\n",
      "(0.8881275987208574, (4, 0.7039702632709497, 0.634241988503622, 0.9509845373581743, 6, 0.5416380304843649, 11, 43))\n",
      "(0.8881231663463464, (4, 0.869519579564744, 0.6262300339891391, 0.6787914179401008, 2, 0.2010024987877997, 71, 38))\n",
      "(0.887870844879059, (7, 0.6319670792565867, 0.9424539196049495, 0.7617564808023123, 3, 0.3544894036733981, 83, 36))\n",
      "(0.8878484563611988, (6, 0.9322594749741772, 0.7203219948507028, 0.7203694349171618, 9, 0.5775010639553627, 90, 36))\n",
      "(0.8875129400188231, (8, 0.6136630520816743, 0.8615048009290602, 0.6205589497327391, 2, 0.38641770177581414, 93, 28))\n"
     ]
    }
   ],
   "source": [
    "maxRes = []\n",
    "for i in range(1, len(paramList)):\n",
    "    maxRes.append(max(results[0:i]))\n",
    "imp = list(zip(results, paramList))\n",
    "imp.sort(reverse=True)\n",
    "for row in imp[0:10]:\n",
    "    print(row)"
   ]
  },
  {
   "cell_type": "code",
   "execution_count": null,
   "id": "b35a5b94",
   "metadata": {},
   "outputs": [],
   "source": [
    "features.remove('EstimatedSalary')\n",
    "features.append('Salary_bracket')\n",
    "features.remove('Age_bracket')"
   ]
  },
  {
   "cell_type": "code",
   "execution_count": 226,
   "id": "aca73447",
   "metadata": {},
   "outputs": [
    {
     "name": "stdout",
     "output_type": "stream",
     "text": [
      "Mean train AUC: 0.89285\n",
      "Mean test AUC: 0.88912\n"
     ]
    }
   ],
   "source": [
    "trainAUCResults, testAUCResults, predictions, indices, models = CVTestXGB(n_estimators = 50, max_depth=6, subsample = 0.65, \n",
    "                                                                          colsample_bytree = 0.75, colsample_bylevel = 0.7, \n",
    "                                                                          reg_lambda = 5, learning_rate = 0.2, \n",
    "                                                                          min_child_weight = 85)\n",
    "print('Mean train AUC:', np.mean(trainAUCResults).round(5))\n",
    "print('Mean test AUC:', np.mean(testAUCResults).round(5))"
   ]
  },
  {
   "cell_type": "code",
   "execution_count": 227,
   "id": "4b2f42cc",
   "metadata": {},
   "outputs": [],
   "source": [
    "resultM3 = {\n",
    "    \"name\": \"XGBoost\",\n",
    "    \"description\":\"XGB after hyperparameters tuning (random search) and feature selection (-age_bracket, salary_bracket for salary)\",\n",
    "    \"testAUCResults\":testAUCResults.copy(),\n",
    "    \"testACCResults\":testAUCResults.copy(),\n",
    "    \"predictions\":predictions.copy(),\n",
    "    \"indices\":indices.copy(),\n",
    "}"
   ]
  },
  {
   "cell_type": "code",
   "execution_count": 223,
   "id": "e5a80d86",
   "metadata": {},
   "outputs": [
    {
     "data": {
      "text/html": [
       "<style>#sk-container-id-6 {color: black;}#sk-container-id-6 pre{padding: 0;}#sk-container-id-6 div.sk-toggleable {background-color: white;}#sk-container-id-6 label.sk-toggleable__label {cursor: pointer;display: block;width: 100%;margin-bottom: 0;padding: 0.3em;box-sizing: border-box;text-align: center;}#sk-container-id-6 label.sk-toggleable__label-arrow:before {content: \"▸\";float: left;margin-right: 0.25em;color: #696969;}#sk-container-id-6 label.sk-toggleable__label-arrow:hover:before {color: black;}#sk-container-id-6 div.sk-estimator:hover label.sk-toggleable__label-arrow:before {color: black;}#sk-container-id-6 div.sk-toggleable__content {max-height: 0;max-width: 0;overflow: hidden;text-align: left;background-color: #f0f8ff;}#sk-container-id-6 div.sk-toggleable__content pre {margin: 0.2em;color: black;border-radius: 0.25em;background-color: #f0f8ff;}#sk-container-id-6 input.sk-toggleable__control:checked~div.sk-toggleable__content {max-height: 200px;max-width: 100%;overflow: auto;}#sk-container-id-6 input.sk-toggleable__control:checked~label.sk-toggleable__label-arrow:before {content: \"▾\";}#sk-container-id-6 div.sk-estimator input.sk-toggleable__control:checked~label.sk-toggleable__label {background-color: #d4ebff;}#sk-container-id-6 div.sk-label input.sk-toggleable__control:checked~label.sk-toggleable__label {background-color: #d4ebff;}#sk-container-id-6 input.sk-hidden--visually {border: 0;clip: rect(1px 1px 1px 1px);clip: rect(1px, 1px, 1px, 1px);height: 1px;margin: -1px;overflow: hidden;padding: 0;position: absolute;width: 1px;}#sk-container-id-6 div.sk-estimator {font-family: monospace;background-color: #f0f8ff;border: 1px dotted black;border-radius: 0.25em;box-sizing: border-box;margin-bottom: 0.5em;}#sk-container-id-6 div.sk-estimator:hover {background-color: #d4ebff;}#sk-container-id-6 div.sk-parallel-item::after {content: \"\";width: 100%;border-bottom: 1px solid gray;flex-grow: 1;}#sk-container-id-6 div.sk-label:hover label.sk-toggleable__label {background-color: #d4ebff;}#sk-container-id-6 div.sk-serial::before {content: \"\";position: absolute;border-left: 1px solid gray;box-sizing: border-box;top: 0;bottom: 0;left: 50%;z-index: 0;}#sk-container-id-6 div.sk-serial {display: flex;flex-direction: column;align-items: center;background-color: white;padding-right: 0.2em;padding-left: 0.2em;position: relative;}#sk-container-id-6 div.sk-item {position: relative;z-index: 1;}#sk-container-id-6 div.sk-parallel {display: flex;align-items: stretch;justify-content: center;background-color: white;position: relative;}#sk-container-id-6 div.sk-item::before, #sk-container-id-6 div.sk-parallel-item::before {content: \"\";position: absolute;border-left: 1px solid gray;box-sizing: border-box;top: 0;bottom: 0;left: 50%;z-index: -1;}#sk-container-id-6 div.sk-parallel-item {display: flex;flex-direction: column;z-index: 1;position: relative;background-color: white;}#sk-container-id-6 div.sk-parallel-item:first-child::after {align-self: flex-end;width: 50%;}#sk-container-id-6 div.sk-parallel-item:last-child::after {align-self: flex-start;width: 50%;}#sk-container-id-6 div.sk-parallel-item:only-child::after {width: 0;}#sk-container-id-6 div.sk-dashed-wrapped {border: 1px dashed gray;margin: 0 0.4em 0.5em 0.4em;box-sizing: border-box;padding-bottom: 0.4em;background-color: white;}#sk-container-id-6 div.sk-label label {font-family: monospace;font-weight: bold;display: inline-block;line-height: 1.2em;}#sk-container-id-6 div.sk-label-container {text-align: center;}#sk-container-id-6 div.sk-container {/* jupyter's `normalize.less` sets `[hidden] { display: none; }` but bootstrap.min.css set `[hidden] { display: none !important; }` so we also need the `!important` here to be able to override the default hidden behavior on the sphinx rendered scikit-learn.org. See: https://github.com/scikit-learn/scikit-learn/issues/21755 */display: inline-block !important;position: relative;}#sk-container-id-6 div.sk-text-repr-fallback {display: none;}</style><div id=\"sk-container-id-6\" class=\"sk-top-container\"><div class=\"sk-text-repr-fallback\"><pre>XGBClassifier(base_score=None, booster=None, callbacks=None,\n",
       "              colsample_bylevel=0.7, colsample_bynode=None,\n",
       "              colsample_bytree=0.75, device=None, early_stopping_rounds=None,\n",
       "              enable_categorical=False, eval_metric=None, feature_types=None,\n",
       "              gamma=None, grow_policy=None, importance_type=None,\n",
       "              interaction_constraints=None, learning_rate=0.2, max_bin=None,\n",
       "              max_cat_threshold=None, max_cat_to_onehot=None,\n",
       "              max_delta_step=None, max_depth=6, max_leaves=None,\n",
       "              min_child_weight=85, missing=nan, monotone_constraints=None,\n",
       "              multi_strategy=None, n_estimators=50, n_jobs=None,\n",
       "              num_parallel_tree=None, random_state=None, ...)</pre><b>In a Jupyter environment, please rerun this cell to show the HTML representation or trust the notebook. <br />On GitHub, the HTML representation is unable to render, please try loading this page with nbviewer.org.</b></div><div class=\"sk-container\" hidden><div class=\"sk-item\"><div class=\"sk-estimator sk-toggleable\"><input class=\"sk-toggleable__control sk-hidden--visually\" id=\"sk-estimator-id-6\" type=\"checkbox\" checked><label for=\"sk-estimator-id-6\" class=\"sk-toggleable__label sk-toggleable__label-arrow\">XGBClassifier</label><div class=\"sk-toggleable__content\"><pre>XGBClassifier(base_score=None, booster=None, callbacks=None,\n",
       "              colsample_bylevel=0.7, colsample_bynode=None,\n",
       "              colsample_bytree=0.75, device=None, early_stopping_rounds=None,\n",
       "              enable_categorical=False, eval_metric=None, feature_types=None,\n",
       "              gamma=None, grow_policy=None, importance_type=None,\n",
       "              interaction_constraints=None, learning_rate=0.2, max_bin=None,\n",
       "              max_cat_threshold=None, max_cat_to_onehot=None,\n",
       "              max_delta_step=None, max_depth=6, max_leaves=None,\n",
       "              min_child_weight=85, missing=nan, monotone_constraints=None,\n",
       "              multi_strategy=None, n_estimators=50, n_jobs=None,\n",
       "              num_parallel_tree=None, random_state=None, ...)</pre></div></div></div></div></div>"
      ],
      "text/plain": [
       "XGBClassifier(base_score=None, booster=None, callbacks=None,\n",
       "              colsample_bylevel=0.7, colsample_bynode=None,\n",
       "              colsample_bytree=0.75, device=None, early_stopping_rounds=None,\n",
       "              enable_categorical=False, eval_metric=None, feature_types=None,\n",
       "              gamma=None, grow_policy=None, importance_type=None,\n",
       "              interaction_constraints=None, learning_rate=0.2, max_bin=None,\n",
       "              max_cat_threshold=None, max_cat_to_onehot=None,\n",
       "              max_delta_step=None, max_depth=6, max_leaves=None,\n",
       "              min_child_weight=85, missing=nan, monotone_constraints=None,\n",
       "              multi_strategy=None, n_estimators=50, n_jobs=None,\n",
       "              num_parallel_tree=None, random_state=None, ...)"
      ]
     },
     "execution_count": 223,
     "metadata": {},
     "output_type": "execute_result"
    }
   ],
   "source": [
    "bst = xgb.XGBClassifier(n_estimators = 50, max_depth=6, subsample = 0.65, colsample_bytree = 0.75, colsample_bylevel = 0.7, \n",
    "                        reg_lambda = 5, learning_rate = 0.2, min_child_weight = 85)\n",
    "bst.fit(train_rf[features], train_rf[target])"
   ]
  },
  {
   "cell_type": "code",
   "execution_count": 224,
   "id": "ff45518f",
   "metadata": {},
   "outputs": [
    {
     "data": {
      "text/plain": [
       "<Axes: xlabel='feature_importance', ylabel='feature'>"
      ]
     },
     "execution_count": 224,
     "metadata": {},
     "output_type": "execute_result"
    },
    {
     "data": {
      "image/png": "[encoded data removed]",
      "text/plain": [
       "<Figure size 432x288 with 1 Axes>"
      ]
     },
     "metadata": {},
     "output_type": "display_data"
    }
   ],
   "source": [
    "fi_df = pd.DataFrame({'feature': features, 'feature_importance':bst.feature_importances_})\n",
    "                      \n",
    "sn.barplot(data = fi_df.sort_values('feature_importance', ascending = False), x = 'feature_importance', y = 'feature',\n",
    "           palette = 'RdGy')"
   ]
  },
  {
   "cell_type": "markdown",
   "id": "f933c823",
   "metadata": {},
   "source": [
    "Submission"
   ]
  },
  {
   "cell_type": "code",
   "execution_count": 225,
   "id": "d6dddafb",
   "metadata": {},
   "outputs": [],
   "source": [
    "test_rf['Exited'] = bst.predict_proba(test_rf[features])[:,1]\n",
    "submission = test_rf['Exited']\n",
    "submission.to_csv('submission_xgb.csv')"
   ]
  },
  {
   "cell_type": "markdown",
   "id": "40711044",
   "metadata": {},
   "source": [
    "### Light GBM"
   ]
  },
  {
   "cell_type": "code",
   "execution_count": 231,
   "id": "44f24077",
   "metadata": {},
   "outputs": [],
   "source": [
    "import lightgbm as lgb"
   ]
  },
  {
   "cell_type": "code",
   "execution_count": 316,
   "id": "4e8fb1c4",
   "metadata": {},
   "outputs": [],
   "source": [
    "def CVTestLGB(nFolds = 5, randomState=2137, debug=False,  features=features, saveModels = False, *args, **kwargs):\n",
    "    \n",
    "    kf = KFold(n_splits=nFolds, shuffle=True, random_state=randomState)\n",
    "\n",
    "    testAUCResults = []\n",
    "    trainAUCResults = []\n",
    "    predictions = []\n",
    "    indices = []\n",
    "    models = []\n",
    "    \n",
    "    for train, test in kf.split(train_rf.index.values):\n",
    "        \n",
    "        # Preparing the estimator\n",
    "        bst = lgb.LGBMClassifier(*args, **kwargs, verbose = -1)\n",
    "        \n",
    "        # Show fuction execution\n",
    "        if debug:\n",
    "            print(clf)\n",
    "        \n",
    "        # Training the model\n",
    "        bst.fit(train_rf.iloc[train][features], train_rf.iloc[train][target])\n",
    "\n",
    "        # Prediction for train and test data\n",
    "        # Sklearn returns two columns of probs for both classes!\n",
    "        predsTrain = bst.predict_proba(train_rf[features].iloc[train])[:,1]\n",
    "        predsTest = bst.predict_proba(train_rf[features].iloc[test])[:,1]\n",
    "        #predsTrain_binary = clf.predict(train_rf[features].iloc[train])\n",
    "        #predsTest_binary = clf.predict(train_rf[features].iloc[test])\n",
    "        \n",
    "        # Storing test predictions for each fold\n",
    "        predictions.append(predsTest.tolist().copy())\n",
    "        \n",
    "        # With indices\n",
    "        indices.append(train_df.iloc[test].index.tolist().copy())\n",
    "        \n",
    "        # Metrics for each fold\n",
    "        trainAUCScore = roc_auc_score((train_rf[target].iloc[train]), predsTrain)\n",
    "        testAUCScore = roc_auc_score((train_rf[target].iloc[test]), predsTest)\n",
    "        \n",
    "        # Storing results\n",
    "        trainAUCResults.append(trainAUCScore)\n",
    "        testAUCResults.append(testAUCScore)\n",
    "        \n",
    "        # Optional show results\n",
    "        if debug:\n",
    "            print(\"Train AUC:\", trainScore,\n",
    "                  \"Valid AUC:\", testScore)\n",
    "            \n",
    "        # Optional save models\n",
    "        if saveModels:\n",
    "            models.append(bst)\n",
    "        \n",
    "    return trainAUCResults, testAUCResults, predictions, indices, models"
   ]
  },
  {
   "cell_type": "code",
   "execution_count": 235,
   "id": "e80c2cce",
   "metadata": {},
   "outputs": [
    {
     "name": "stdout",
     "output_type": "stream",
     "text": [
      "Mean train AUC: 0.89714\n",
      "Mean test AUC: 0.88905\n"
     ]
    }
   ],
   "source": [
    "trainAUCResults, testAUCResults, predictions, indices, models = CVTestLGB()\n",
    "print('Mean train AUC:', np.mean(trainAUCResults).round(5))\n",
    "print('Mean test AUC:', np.mean(testAUCResults).round(5))"
   ]
  },
  {
   "cell_type": "markdown",
   "id": "11ad5170",
   "metadata": {},
   "source": [
    "**Iterated Hyperparameter tuning**"
   ]
  },
  {
   "cell_type": "code",
   "execution_count": 236,
   "id": "d299645c",
   "metadata": {},
   "outputs": [
    {
     "name": "stdout",
     "output_type": "stream",
     "text": [
      "2 0.8845688074194591 0.8841864245642166\n",
      "4 0.8917175316804495 0.8891756916883435\n",
      "6 0.8959377833936093 0.8891409785036574\n",
      "8 0.8966753574946701 0.889153887822968\n",
      "10 0.8969979907875546 0.8891415919326106\n"
     ]
    }
   ],
   "source": [
    "# max_depth\n",
    "for k in range(2,12,2):\n",
    "    trainAUCResults, testAUCResults, predictions, indices, models = CVTestLGB(max_depth = k)\n",
    "    print(k, np.mean(trainAUCResults), np.mean(testAUCResults))"
   ]
  },
  {
   "cell_type": "code",
   "execution_count": 244,
   "id": "f66eebfd",
   "metadata": {},
   "outputs": [
    {
     "name": "stdout",
     "output_type": "stream",
     "text": [
      "0.1 0.8917175316804495 0.8891756916883435\n",
      "0.2 0.8947432190178208 0.8893450258506286\n",
      "0.3 0.8969013887784915 0.8888774634278669\n"
     ]
    }
   ],
   "source": [
    "# learning_rate\n",
    "for k in [0.1,0.2,0.3]:\n",
    "    trainAUCResults, testAUCResults, predictions, indices, models = CVTestLGB(max_depth = 4, num_leaves = 2**4, \n",
    "                                                                              learning_rate = k)\n",
    "    print(k, np.mean(trainAUCResults), np.mean(testAUCResults))"
   ]
  },
  {
   "cell_type": "code",
   "execution_count": 245,
   "id": "7ecd842b",
   "metadata": {},
   "outputs": [
    {
     "name": "stdout",
     "output_type": "stream",
     "text": [
      "10 0.8841048454635683 0.8837374976284025\n",
      "25 0.889168437724573 0.8879493303680027\n",
      "50 0.8916772863203507 0.8889662909526963\n",
      "100 0.8947432190178208 0.8893450258506286\n",
      "150 0.8970956017914983 0.8893728396304417\n",
      "200 0.8991485256049806 0.8891574601571179\n"
     ]
    }
   ],
   "source": [
    "# n_estimators\n",
    "for k in [10,25,50,100,150,200]:\n",
    "    trainAUCResults, testAUCResults, predictions, indices, models = CVTestLGB(max_depth = 4, num_leaves = 2**4, \n",
    "                                                                              learning_rate = 0.2, n_estimators = k)\n",
    "    print(k, np.mean(trainAUCResults), np.mean(testAUCResults))"
   ]
  },
  {
   "cell_type": "code",
   "execution_count": 246,
   "id": "21f8a665",
   "metadata": {},
   "outputs": [
    {
     "name": "stdout",
     "output_type": "stream",
     "text": [
      "0 0.8947432190178208 0.8893450258506286\n",
      "0.2 0.8946740701616409 0.8892832075569274\n",
      "0.4 0.8946242310262036 0.8893521025824697\n",
      "0.6 0.8946109701598395 0.889358872339371\n",
      "0.8 0.894530714555535 0.8892881042351826\n",
      "1 0.8944664299141291 0.8893195293074074\n"
     ]
    }
   ],
   "source": [
    "# reg_lambda\n",
    "for k in [0, 0.2, 0.4, 0.6, 0.8, 1]:\n",
    "    trainAUCResults, testAUCResults, predictions, indices, models = CVTestLGB(max_depth = 4, num_leaves = 2**4, \n",
    "                                                                              learning_rate = 0.2, reg_lambda = k)\n",
    "    print(k, np.mean(trainAUCResults), np.mean(testAUCResults))"
   ]
  },
  {
   "cell_type": "code",
   "execution_count": 317,
   "id": "856074d5",
   "metadata": {},
   "outputs": [
    {
     "name": "stdout",
     "output_type": "stream",
     "text": [
      "Mean train AUC: 0.89461\n",
      "Mean test AUC: 0.88936\n"
     ]
    }
   ],
   "source": [
    "trainAUCResults, testAUCResults, predictions, indices, models = CVTestLGB(max_depth = 4, num_leaves = 2**4, \n",
    "                                                                          learning_rate = 0.2, reg_lambda = 0.6, \n",
    "                                                                          saveModels = True)\n",
    "print('Mean train AUC:', np.mean(trainAUCResults).round(5))\n",
    "print('Mean test AUC:', np.mean(testAUCResults).round(5))"
   ]
  },
  {
   "cell_type": "code",
   "execution_count": 254,
   "id": "11d53da3",
   "metadata": {},
   "outputs": [
    {
     "data": {
      "text/plain": [
       "<Axes: xlabel='feature_importance', ylabel='feature'>"
      ]
     },
     "execution_count": 254,
     "metadata": {},
     "output_type": "execute_result"
    },
    {
     "data": {
      "image/png": "[encoded data removed]",
      "text/plain": [
       "<Figure size 432x288 with 1 Axes>"
      ]
     },
     "metadata": {},
     "output_type": "display_data"
    }
   ],
   "source": [
    "fi_df = pd.DataFrame({'feature': features, 'feature_importance':models[0].feature_importances_})\n",
    "                      \n",
    "sn.barplot(data = fi_df.sort_values('feature_importance', ascending = False), x = 'feature_importance', y = 'feature',\n",
    "           palette = 'RdGy')"
   ]
  },
  {
   "cell_type": "code",
   "execution_count": 319,
   "id": "16a6b2d7",
   "metadata": {},
   "outputs": [],
   "source": [
    "resultM4 = {\n",
    "    \"name\": \"LightGB\",\n",
    "    \"description\":\"LightGB after hyperparameters tuning (iterated) and feature selection\",\n",
    "    \"testAUCResults\":testAUCResults.copy(),\n",
    "    \"testACCResults\":testAUCResults.copy(),\n",
    "    \"predictions\":predictions.copy(),\n",
    "    \"indices\":indices.copy(),\n",
    "}"
   ]
  },
  {
   "cell_type": "markdown",
   "id": "d65dce99",
   "metadata": {},
   "source": [
    "Submission"
   ]
  },
  {
   "cell_type": "code",
   "execution_count": 257,
   "id": "cb93fea2",
   "metadata": {},
   "outputs": [
    {
     "data": {
      "text/html": [
       "<style>#sk-container-id-7 {color: black;}#sk-container-id-7 pre{padding: 0;}#sk-container-id-7 div.sk-toggleable {background-color: white;}#sk-container-id-7 label.sk-toggleable__label {cursor: pointer;display: block;width: 100%;margin-bottom: 0;padding: 0.3em;box-sizing: border-box;text-align: center;}#sk-container-id-7 label.sk-toggleable__label-arrow:before {content: \"▸\";float: left;margin-right: 0.25em;color: #696969;}#sk-container-id-7 label.sk-toggleable__label-arrow:hover:before {color: black;}#sk-container-id-7 div.sk-estimator:hover label.sk-toggleable__label-arrow:before {color: black;}#sk-container-id-7 div.sk-toggleable__content {max-height: 0;max-width: 0;overflow: hidden;text-align: left;background-color: #f0f8ff;}#sk-container-id-7 div.sk-toggleable__content pre {margin: 0.2em;color: black;border-radius: 0.25em;background-color: #f0f8ff;}#sk-container-id-7 input.sk-toggleable__control:checked~div.sk-toggleable__content {max-height: 200px;max-width: 100%;overflow: auto;}#sk-container-id-7 input.sk-toggleable__control:checked~label.sk-toggleable__label-arrow:before {content: \"▾\";}#sk-container-id-7 div.sk-estimator input.sk-toggleable__control:checked~label.sk-toggleable__label {background-color: #d4ebff;}#sk-container-id-7 div.sk-label input.sk-toggleable__control:checked~label.sk-toggleable__label {background-color: #d4ebff;}#sk-container-id-7 input.sk-hidden--visually {border: 0;clip: rect(1px 1px 1px 1px);clip: rect(1px, 1px, 1px, 1px);height: 1px;margin: -1px;overflow: hidden;padding: 0;position: absolute;width: 1px;}#sk-container-id-7 div.sk-estimator {font-family: monospace;background-color: #f0f8ff;border: 1px dotted black;border-radius: 0.25em;box-sizing: border-box;margin-bottom: 0.5em;}#sk-container-id-7 div.sk-estimator:hover {background-color: #d4ebff;}#sk-container-id-7 div.sk-parallel-item::after {content: \"\";width: 100%;border-bottom: 1px solid gray;flex-grow: 1;}#sk-container-id-7 div.sk-label:hover label.sk-toggleable__label {background-color: #d4ebff;}#sk-container-id-7 div.sk-serial::before {content: \"\";position: absolute;border-left: 1px solid gray;box-sizing: border-box;top: 0;bottom: 0;left: 50%;z-index: 0;}#sk-container-id-7 div.sk-serial {display: flex;flex-direction: column;align-items: center;background-color: white;padding-right: 0.2em;padding-left: 0.2em;position: relative;}#sk-container-id-7 div.sk-item {position: relative;z-index: 1;}#sk-container-id-7 div.sk-parallel {display: flex;align-items: stretch;justify-content: center;background-color: white;position: relative;}#sk-container-id-7 div.sk-item::before, #sk-container-id-7 div.sk-parallel-item::before {content: \"\";position: absolute;border-left: 1px solid gray;box-sizing: border-box;top: 0;bottom: 0;left: 50%;z-index: -1;}#sk-container-id-7 div.sk-parallel-item {display: flex;flex-direction: column;z-index: 1;position: relative;background-color: white;}#sk-container-id-7 div.sk-parallel-item:first-child::after {align-self: flex-end;width: 50%;}#sk-container-id-7 div.sk-parallel-item:last-child::after {align-self: flex-start;width: 50%;}#sk-container-id-7 div.sk-parallel-item:only-child::after {width: 0;}#sk-container-id-7 div.sk-dashed-wrapped {border: 1px dashed gray;margin: 0 0.4em 0.5em 0.4em;box-sizing: border-box;padding-bottom: 0.4em;background-color: white;}#sk-container-id-7 div.sk-label label {font-family: monospace;font-weight: bold;display: inline-block;line-height: 1.2em;}#sk-container-id-7 div.sk-label-container {text-align: center;}#sk-container-id-7 div.sk-container {/* jupyter's `normalize.less` sets `[hidden] { display: none; }` but bootstrap.min.css set `[hidden] { display: none !important; }` so we also need the `!important` here to be able to override the default hidden behavior on the sphinx rendered scikit-learn.org. See: https://github.com/scikit-learn/scikit-learn/issues/21755 */display: inline-block !important;position: relative;}#sk-container-id-7 div.sk-text-repr-fallback {display: none;}</style><div id=\"sk-container-id-7\" class=\"sk-top-container\"><div class=\"sk-text-repr-fallback\"><pre>LGBMClassifier(learning_rate=0.2, max_depth=4, num_leaves=16, reg_lambda=0.6,\n",
       "               verbose=-1)</pre><b>In a Jupyter environment, please rerun this cell to show the HTML representation or trust the notebook. <br />On GitHub, the HTML representation is unable to render, please try loading this page with nbviewer.org.</b></div><div class=\"sk-container\" hidden><div class=\"sk-item\"><div class=\"sk-estimator sk-toggleable\"><input class=\"sk-toggleable__control sk-hidden--visually\" id=\"sk-estimator-id-7\" type=\"checkbox\" checked><label for=\"sk-estimator-id-7\" class=\"sk-toggleable__label sk-toggleable__label-arrow\">LGBMClassifier</label><div class=\"sk-toggleable__content\"><pre>LGBMClassifier(learning_rate=0.2, max_depth=4, num_leaves=16, reg_lambda=0.6,\n",
       "               verbose=-1)</pre></div></div></div></div></div>"
      ],
      "text/plain": [
       "LGBMClassifier(learning_rate=0.2, max_depth=4, num_leaves=16, reg_lambda=0.6,\n",
       "               verbose=-1)"
      ]
     },
     "execution_count": 257,
     "metadata": {},
     "output_type": "execute_result"
    }
   ],
   "source": [
    "bst = lgb.LGBMClassifier(max_depth = 4, num_leaves = 2**4, learning_rate = 0.2, reg_lambda = 0.6, verbose = -1)\n",
    "bst.fit(train_rf[features], train_rf[target])"
   ]
  },
  {
   "cell_type": "code",
   "execution_count": 261,
   "id": "d5b76a4b",
   "metadata": {},
   "outputs": [],
   "source": [
    "test_rf['Exited'] = bst.predict_proba(test_rf[features])[:,1]\n",
    "submission = test_rf['Exited']\n",
    "submission.to_csv('submission_lgbm.csv')"
   ]
  },
  {
   "cell_type": "markdown",
   "id": "6fe876dd",
   "metadata": {},
   "source": [
    "### CatBoost"
   ]
  },
  {
   "cell_type": "code",
   "execution_count": 262,
   "id": "e93d5473",
   "metadata": {},
   "outputs": [],
   "source": [
    "import catboost as ctb"
   ]
  },
  {
   "cell_type": "code",
   "execution_count": 310,
   "id": "0b831ec6",
   "metadata": {},
   "outputs": [],
   "source": [
    "def CVTestCTB(nFolds = 5, randomState=2137, debug=False,  features=features, saveModels = False, *args, **kwargs):\n",
    "    \n",
    "    kf = KFold(n_splits=nFolds, shuffle=True, random_state=randomState)\n",
    "\n",
    "    testAUCResults = []\n",
    "    trainAUCResults = []\n",
    "    predictions = []\n",
    "    indices = []\n",
    "    models = []\n",
    "    \n",
    "    for train, test in kf.split(train_rf.index.values):\n",
    "        \n",
    "        # Preparing the estimator\n",
    "        bst = ctb.CatBoostClassifier(*args, **kwargs, verbose = False)\n",
    "        \n",
    "        # Show fuction execution\n",
    "        if debug:\n",
    "            print(clf)\n",
    "        \n",
    "        # Training the model\n",
    "        bst.fit(train_rf.iloc[train][features], train_rf.iloc[train][target], cat_features = ['Geography'])\n",
    "\n",
    "        # Prediction for train and test data\n",
    "        # Sklearn returns two columns of probs for both classes!\n",
    "        predsTrain = bst.predict_proba(train_rf[features].iloc[train])[:,1]\n",
    "        predsTest = bst.predict_proba(train_rf[features].iloc[test])[:,1]\n",
    "        #predsTrain_binary = clf.predict(train_rf[features].iloc[train])\n",
    "        #predsTest_binary = clf.predict(train_rf[features].iloc[test])\n",
    "        \n",
    "        # Storing test predictions for each fold\n",
    "        predictions.append(predsTest.tolist().copy())\n",
    "        \n",
    "        # With indices\n",
    "        indices.append(train_df.iloc[test].index.tolist().copy())\n",
    "        \n",
    "        # Metrics for each fold\n",
    "        trainAUCScore = roc_auc_score((train_rf[target].iloc[train]), predsTrain)\n",
    "        testAUCScore = roc_auc_score((train_rf[target].iloc[test]), predsTest)\n",
    "        \n",
    "        # Storing results\n",
    "        trainAUCResults.append(trainAUCScore)\n",
    "        testAUCResults.append(testAUCScore)\n",
    "        \n",
    "        # Optional show results\n",
    "        if debug:\n",
    "            print(\"Train AUC:\", trainScore,\n",
    "                  \"Valid AUC:\", testScore)\n",
    "            \n",
    "        # Optional save models\n",
    "        if saveModels:\n",
    "            models.append(bst)\n",
    "        \n",
    "    return trainAUCResults, testAUCResults, predictions, indices, models"
   ]
  },
  {
   "cell_type": "code",
   "execution_count": 269,
   "id": "d86e9bfa",
   "metadata": {},
   "outputs": [
    {
     "name": "stdout",
     "output_type": "stream",
     "text": [
      "Mean train AUC: 0.90767\n",
      "Mean test AUC: 0.88875\n"
     ]
    }
   ],
   "source": [
    "trainAUCResults, testAUCResults, predictions, indices, models = CVTestCTB()\n",
    "print('Mean train AUC:', np.mean(trainAUCResults).round(5))\n",
    "print('Mean test AUC:', np.mean(testAUCResults).round(5))"
   ]
  },
  {
   "cell_type": "markdown",
   "id": "ea43d3d8",
   "metadata": {},
   "source": [
    "Hyperparameters - random search"
   ]
  },
  {
   "cell_type": "code",
   "execution_count": 276,
   "id": "1c11a119",
   "metadata": {},
   "outputs": [],
   "source": [
    "results=[]\n",
    "paramList = []\n",
    "for x in range(30):\n",
    "    params = (random.uniform(0.06,0.1), 100, random.randint(6,12), random.uniform(0.1,1), random.uniform(0.5,1), \n",
    "              random.randint(40,90))\n",
    "    trainAUCResults, testAUCResults, predictions, indices, models = CVTestCTB(\n",
    "        learning_rate = params[0],\n",
    "        iterations = params[1],\n",
    "        depth = params[2],\n",
    "        subsample = params[3],\n",
    "        colsample_bylevel = params[4],\n",
    "        min_data_in_leaf = params[5])\n",
    "    results.append(np.mean(testAUCResults))\n",
    "    paramList.append(params)"
   ]
  },
  {
   "cell_type": "code",
   "execution_count": 277,
   "id": "13d0b558",
   "metadata": {},
   "outputs": [
    {
     "name": "stdout",
     "output_type": "stream",
     "text": [
      "(0.8890177001229465, (0.09602986793132556, 100, 7, 0.7710843076990721, 0.6560083039928469, 84))\n",
      "(0.8890040384412068, (0.09985081736926615, 100, 7, 0.5900442459129597, 0.655372635791651, 77))\n",
      "(0.8889172525148303, (0.08706999423937964, 100, 7, 0.841242250320974, 0.5512065912164843, 48))\n",
      "(0.8888705489467256, (0.0820509588891083, 100, 8, 0.38691939202970915, 0.8443567915638754, 79))\n",
      "(0.8888660564257975, (0.0977247835344496, 100, 9, 0.5429918409783541, 0.6827823907378967, 71))\n",
      "(0.8888654844190423, (0.08898437010036819, 100, 6, 0.279271892954763, 0.9720336172999895, 90))\n",
      "(0.8888471663190934, (0.09428227764025729, 100, 6, 0.3135667927638809, 0.808265489098204, 65))\n",
      "(0.888826352827396, (0.07956915680224497, 100, 7, 0.47565083334044056, 0.68954408655643, 50))\n",
      "(0.8887895632278877, (0.07663400978195203, 100, 7, 0.13327099333222572, 0.9768004104381997, 57))\n",
      "(0.8887788333945638, (0.08778327559511559, 100, 10, 0.45250355251683705, 0.966551791630766, 75))\n"
     ]
    }
   ],
   "source": [
    "maxRes = []\n",
    "for i in range(1, len(paramList)):\n",
    "    maxRes.append(max(results[0:i]))\n",
    "imp = list(zip(results, paramList))\n",
    "imp.sort(reverse=True)\n",
    "for row in imp[0:10]:\n",
    "    print(row)"
   ]
  },
  {
   "cell_type": "code",
   "execution_count": 283,
   "id": "6ad80b60",
   "metadata": {},
   "outputs": [
    {
     "name": "stdout",
     "output_type": "stream",
     "text": [
      "Mean train AUC: 0.89354\n",
      "Mean test AUC: 0.8893\n"
     ]
    }
   ],
   "source": [
    "trainAUCResults, testAUCResults, predictions, indices, models = CVTestCTB(learning_rate = 0.1, iterations = 150, depth = 7,\n",
    "                                                                          subsample = 0.75, colsample_bylevel = 0.65, \n",
    "                                                                          min_data_in_leaf = 80, saveModels = True)\n",
    "print('Mean train AUC:', np.mean(trainAUCResults).round(5))\n",
    "print('Mean test AUC:', np.mean(testAUCResults).round(5))"
   ]
  },
  {
   "cell_type": "markdown",
   "id": "ed7d59dc",
   "metadata": {},
   "source": [
    "Finally we can again mess with the features a little bit. Feature importance:"
   ]
  },
  {
   "cell_type": "code",
   "execution_count": 284,
   "id": "fa41984c",
   "metadata": {},
   "outputs": [
    {
     "data": {
      "text/plain": [
       "<Axes: xlabel='feature_importance', ylabel='feature'>"
      ]
     },
     "execution_count": 284,
     "metadata": {},
     "output_type": "execute_result"
    },
    {
     "data": {
      "image/png": "[encoded data removed]",
      "text/plain": [
       "<Figure size 432x288 with 1 Axes>"
      ]
     },
     "metadata": {},
     "output_type": "display_data"
    }
   ],
   "source": [
    "fi_df = pd.DataFrame({'feature': features, 'feature_importance':models[0].feature_importances_})\n",
    "                      \n",
    "sn.barplot(data = fi_df.sort_values('feature_importance', ascending = False), x = 'feature_importance', y = 'feature',\n",
    "           palette = 'RdGy')"
   ]
  },
  {
   "cell_type": "code",
   "execution_count": 286,
   "id": "1c634507",
   "metadata": {},
   "outputs": [],
   "source": [
    "features.remove('Salary_bracket')\n",
    "features.append('EstimatedSalary')"
   ]
  },
  {
   "cell_type": "code",
   "execution_count": 293,
   "id": "e36c25a6",
   "metadata": {},
   "outputs": [
    {
     "name": "stdout",
     "output_type": "stream",
     "text": [
      "Mean train AUC: 0.89374\n",
      "Mean test AUC: 0.88945\n"
     ]
    }
   ],
   "source": [
    "trainAUCResults, testAUCResults, predictions, indices, models = CVTestCTB(learning_rate = 0.1, iterations = 150, depth = 7,\n",
    "                                                                          subsample = 0.75, colsample_bylevel = 0.65, \n",
    "                                                                          min_data_in_leaf = 80, saveModels = True)\n",
    "print('Mean train AUC:', np.mean(trainAUCResults).round(5))\n",
    "print('Mean test AUC:', np.mean(testAUCResults).round(5))"
   ]
  },
  {
   "cell_type": "markdown",
   "id": "0649d392",
   "metadata": {},
   "source": [
    "So far we treated Geography variable as ordered discrete feature (0,1,2). We can check if the performance will be better if we specify cat_features parameter in the bst.fit() function."
   ]
  },
  {
   "cell_type": "code",
   "execution_count": 311,
   "id": "2f26cd8e",
   "metadata": {},
   "outputs": [
    {
     "name": "stdout",
     "output_type": "stream",
     "text": [
      "Mean train AUC: 0.89317\n",
      "Mean test AUC: 0.8895\n"
     ]
    }
   ],
   "source": [
    "trainAUCResults, testAUCResults, predictions, indices, models = CVTestCTB(learning_rate = 0.1, iterations = 150, depth = 7,\n",
    "                                                                          subsample = 0.75, colsample_bylevel = 0.65, \n",
    "                                                                          min_data_in_leaf = 80, saveModels = True)\n",
    "print('Mean train AUC:', np.mean(trainAUCResults).round(5))\n",
    "print('Mean test AUC:', np.mean(testAUCResults).round(5))"
   ]
  },
  {
   "cell_type": "code",
   "execution_count": 312,
   "id": "6ce54fb8",
   "metadata": {},
   "outputs": [],
   "source": [
    "resultM5 = {\n",
    "    \"name\": \"CatBoost\",\n",
    "    \"description\":\"CatBoost after hyperparameters tuning (random search) and feature selection (estimatedsalary for salary_bracket)\",\n",
    "    \"testAUCResults\":testAUCResults.copy(),\n",
    "    \"testACCResults\":testAUCResults.copy(),\n",
    "    \"predictions\":predictions.copy(),\n",
    "    \"indices\":indices.copy(),\n",
    "}"
   ]
  },
  {
   "cell_type": "markdown",
   "id": "60f459f8",
   "metadata": {},
   "source": [
    "Submission"
   ]
  },
  {
   "cell_type": "code",
   "execution_count": 320,
   "id": "4865a23e",
   "metadata": {},
   "outputs": [
    {
     "data": {
      "text/plain": [
       "<catboost.core.CatBoostClassifier at 0x20882140430>"
      ]
     },
     "execution_count": 320,
     "metadata": {},
     "output_type": "execute_result"
    }
   ],
   "source": [
    "bst = ctb.CatBoostClassifier(learning_rate = 0.1, iterations = 150, depth = 7, subsample = 0.75, colsample_bylevel = 0.65, \n",
    "                             min_data_in_leaf = 80, verbose = False)\n",
    "bst.fit(train_rf[features], train_rf[target], cat_features = ['Geography'])"
   ]
  },
  {
   "cell_type": "code",
   "execution_count": 322,
   "id": "8d1aeb16",
   "metadata": {},
   "outputs": [],
   "source": [
    "test_rf['Exited'] = bst.predict_proba(test_rf[features])[:,1]\n",
    "submission = test_rf['Exited']\n",
    "submission.to_csv('submission_ctb.csv')"
   ]
  },
  {
   "cell_type": "markdown",
   "id": "50fcd76b",
   "metadata": {},
   "source": [
    "**Kaggle AUC Score = 0.88861. Place: 1417/3632 (top40%)**"
   ]
  },
  {
   "cell_type": "markdown",
   "id": "0ca51a97",
   "metadata": {},
   "source": [
    "### Models comparison - ROC AUC Curve"
   ]
  },
  {
   "cell_type": "code",
   "execution_count": 326,
   "id": "5d25cd37",
   "metadata": {},
   "outputs": [],
   "source": [
    "from sklearn.metrics import roc_curve, roc_auc_score\n",
    "\n",
    "def plotROCs(results):\n",
    "    \n",
    "    fig, ax = plt.subplots(figsize=(10,9))\n",
    "        \n",
    "    for true, pred, label in results:\n",
    "        # All points needed to draw the curve\n",
    "        fpr, tpr, thresholds = roc_curve(true, pred)\n",
    "        # Calculating AUC\n",
    "        rocScore = roc_auc_score(true, pred)\n",
    "        rocScore = round(rocScore, 3)\n",
    "    \n",
    "        # Curve weidth\n",
    "        lw = 1\n",
    "\n",
    "        # Drawing the curve\n",
    "        ax.plot(fpr, tpr, lw=lw, label=f'{label}: {rocScore}')\n",
    "    # Drawing 45 degree line\n",
    "    ax.plot([0, 1], [0, 1], color='navy', lw=lw, linestyle='--')\n",
    "    ax.set_xlim([-0.01, 1.0])\n",
    "    ax.set_ylim([0.0, 1.01])\n",
    "    ax.set_xlabel('False Positive Rate')\n",
    "    ax.set_ylabel('True Positive Rate')\n",
    "    ax.set_title(f'Receiver operating characteristic - {rocScore}')\n",
    "    ax.legend(loc=\"lower right\")\n",
    "    plt.show()"
   ]
  },
  {
   "cell_type": "code",
   "execution_count": 336,
   "id": "7414eb95",
   "metadata": {},
   "outputs": [
    {
     "data": {
      "image/png": "[encoded data removed]",
      "text/plain": [
       "<Figure size 720x648 with 1 Axes>"
      ]
     },
     "metadata": {},
     "output_type": "display_data"
    }
   ],
   "source": [
    "sn.set_theme(style = 'white')\n",
    "res2plot = []\n",
    "true = train_df[target].sort_index()\n",
    "for result in [resultM1, resultM2, resultM3, resultM4, resultM5]:\n",
    "    # Prediction vector\n",
    "    pred = pd.Series(sum(result[\"predictions\"], []), index=sum(result[\"indices\"], [])).sort_index()\n",
    "    res2plot.append((true, pred, result[\"name\"]))\n",
    "    \n",
    "plotROCs(res2plot)"
   ]
  }
 ],
 "metadata": {
  "kernelspec": {
   "display_name": "Python 3",
   "language": "python",
   "name": "python3"
  },
  "language_info": {
   "codemirror_mode": {
    "name": "ipython",
    "version": 3
   },
   "file_extension": ".py",
   "mimetype": "text/x-python",
   "name": "python",
   "nbconvert_exporter": "python",
   "pygments_lexer": "ipython3",
   "version": "3.8.8"
  }
 },
 "nbformat": 4,
 "nbformat_minor": 5
}
